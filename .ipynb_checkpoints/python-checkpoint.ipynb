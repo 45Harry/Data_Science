{
 "cells": [
  {
   "cell_type": "code",
   "execution_count": 1,
   "id": "d5ab7be9-5ff3-4b51-804e-253b1d1a8584",
   "metadata": {},
   "outputs": [
    {
     "data": {
      "text/plain": [
       "2"
      ]
     },
     "execution_count": 1,
     "metadata": {},
     "output_type": "execute_result"
    }
   ],
   "source": [
    "5%3 # gives the reminder"
   ]
  },
  {
   "cell_type": "code",
   "execution_count": 2,
   "id": "31efb369-d0a9-472d-a240-80c1c3a57509",
   "metadata": {},
   "outputs": [
    {
     "data": {
      "text/plain": [
       "1"
      ]
     },
     "execution_count": 2,
     "metadata": {},
     "output_type": "execute_result"
    }
   ],
   "source": [
    "5//3 # gives the quotient"
   ]
  },
  {
   "cell_type": "code",
   "execution_count": 8,
   "id": "09b34582-e9cb-4a42-a53b-b8a719706940",
   "metadata": {},
   "outputs": [
    {
     "name": "stdout",
     "output_type": "stream",
     "text": [
      "8.166666666666666\n"
     ]
    }
   ],
   "source": [
    "x = 7*(3+8-4)/6\n",
    "print(x)"
   ]
  },
  {
   "cell_type": "code",
   "execution_count": 10,
   "id": "186f362e-c1e8-43ff-a5ab-730f598e809a",
   "metadata": {},
   "outputs": [
    {
     "name": "stdout",
     "output_type": "stream",
     "text": [
      "0.16666666666666607\n"
     ]
    }
   ],
   "source": [
    "y = x % 2\n",
    "print(y)"
   ]
  },
  {
   "cell_type": "code",
   "execution_count": 11,
   "id": "70d5b62e-3763-4653-b02c-bbd98c03103b",
   "metadata": {},
   "outputs": [
    {
     "name": "stdout",
     "output_type": "stream",
     "text": [
      "0.00462962962962958\n"
     ]
    }
   ],
   "source": [
    "z = y ** 3\n",
    "print(z)"
   ]
  },
  {
   "cell_type": "code",
   "execution_count": 15,
   "id": "c35ace34-8eb8-4d1f-a1f9-21d4fad19bae",
   "metadata": {},
   "outputs": [
    {
     "name": "stdout",
     "output_type": "stream",
     "text": [
      "2.0\n"
     ]
    }
   ],
   "source": [
    "k = x // 3\n",
    "print(k)"
   ]
  },
  {
   "cell_type": "code",
   "execution_count": 18,
   "id": "fdb4cdea-6213-4caf-8ef8-228ae9c5a75c",
   "metadata": {},
   "outputs": [
    {
     "data": {
      "text/plain": [
       "True"
      ]
     },
     "execution_count": 18,
     "metadata": {},
     "output_type": "execute_result"
    }
   ],
   "source": [
    "2 != 3\n"
   ]
  },
  {
   "cell_type": "code",
   "execution_count": 17,
   "id": "ffa73387-002f-4421-9fe0-b94b640d37e9",
   "metadata": {},
   "outputs": [
    {
     "data": {
      "text/plain": [
       "False"
      ]
     },
     "execution_count": 17,
     "metadata": {},
     "output_type": "execute_result"
    }
   ],
   "source": [
    "2==3"
   ]
  },
  {
   "cell_type": "code",
   "execution_count": 19,
   "id": "6fb889aa-9bc2-4866-a43c-876baac83b8d",
   "metadata": {},
   "outputs": [
    {
     "data": {
      "text/plain": [
       "False"
      ]
     },
     "execution_count": 19,
     "metadata": {},
     "output_type": "execute_result"
    }
   ],
   "source": [
    "2 >= 3"
   ]
  },
  {
   "cell_type": "code",
   "execution_count": 24,
   "id": "96523897-aa60-4da4-ada6-10835a13f8e1",
   "metadata": {},
   "outputs": [],
   "source": [
    "a = 2 \n",
    "b = 3"
   ]
  },
  {
   "cell_type": "code",
   "execution_count": 25,
   "id": "52d84e04-48d2-4760-9c7e-bd8be2db63a2",
   "metadata": {},
   "outputs": [
    {
     "data": {
      "text/plain": [
       "False"
      ]
     },
     "execution_count": 25,
     "metadata": {},
     "output_type": "execute_result"
    }
   ],
   "source": [
    "a > 2 and b >2"
   ]
  },
  {
   "cell_type": "code",
   "execution_count": 26,
   "id": "37dcdf60-5bd7-4841-a206-13cde346e8c2",
   "metadata": {},
   "outputs": [
    {
     "data": {
      "text/plain": [
       "True"
      ]
     },
     "execution_count": 26,
     "metadata": {},
     "output_type": "execute_result"
    }
   ],
   "source": [
    "a > 2 or b >2 "
   ]
  },
  {
   "cell_type": "code",
   "execution_count": 27,
   "id": "20b21c52-2bb5-40f7-832c-11191df59645",
   "metadata": {},
   "outputs": [
    {
     "data": {
      "text/plain": [
       "True"
      ]
     },
     "execution_count": 27,
     "metadata": {},
     "output_type": "execute_result"
    }
   ],
   "source": [
    "not  b > 3 "
   ]
  },
  {
   "cell_type": "code",
   "execution_count": 28,
   "id": "827bba9f-8927-4c9f-8a60-3b64687cf5fc",
   "metadata": {},
   "outputs": [
    {
     "data": {
      "text/plain": [
       "False"
      ]
     },
     "execution_count": 28,
     "metadata": {},
     "output_type": "execute_result"
    }
   ],
   "source": [
    "not a > 1 "
   ]
  },
  {
   "cell_type": "code",
   "execution_count": 30,
   "id": "3ffc1693-2627-4853-9c67-14c299cffe66",
   "metadata": {},
   "outputs": [
    {
     "data": {
      "text/plain": [
       "True"
      ]
     },
     "execution_count": 30,
     "metadata": {},
     "output_type": "execute_result"
    }
   ],
   "source": [
    "a != 1"
   ]
  },
  {
   "cell_type": "code",
   "execution_count": 31,
   "id": "be558b13-f01d-4167-9531-a18eb3213843",
   "metadata": {},
   "outputs": [
    {
     "data": {
      "text/plain": [
       "False"
      ]
     },
     "execution_count": 31,
     "metadata": {},
     "output_type": "execute_result"
    }
   ],
   "source": [
    "False or True and not True"
   ]
  },
  {
   "cell_type": "code",
   "execution_count": 32,
   "id": "8cce8266-019a-4688-9f94-94a7d5a6ca76",
   "metadata": {},
   "outputs": [
    {
     "data": {
      "text/plain": [
       "True"
      ]
     },
     "execution_count": 32,
     "metadata": {},
     "output_type": "execute_result"
    }
   ],
   "source": [
    "x = 2 \n",
    "type(x) is int"
   ]
  },
  {
   "cell_type": "code",
   "execution_count": 35,
   "id": "7c8f03ad-da4c-4127-8ffc-0381a94ff9ca",
   "metadata": {},
   "outputs": [
    {
     "data": {
      "text/plain": [
       "False"
      ]
     },
     "execution_count": 35,
     "metadata": {},
     "output_type": "execute_result"
    }
   ],
   "source": [
    "type(x) is float"
   ]
  },
  {
   "cell_type": "code",
   "execution_count": 34,
   "id": "175a4ed6-4c5a-42c7-b654-3132dbbd1ba4",
   "metadata": {},
   "outputs": [
    {
     "data": {
      "text/plain": [
       "True"
      ]
     },
     "execution_count": 34,
     "metadata": {},
     "output_type": "execute_result"
    }
   ],
   "source": [
    "type(x) is not str"
   ]
  },
  {
   "cell_type": "code",
   "execution_count": 36,
   "id": "65ba9ab2-96be-4584-8b25-bf9ce8b7b6d3",
   "metadata": {},
   "outputs": [
    {
     "data": {
      "text/plain": [
       "True"
      ]
     },
     "execution_count": 36,
     "metadata": {},
     "output_type": "execute_result"
    }
   ],
   "source": [
    "'h' in 'hello' "
   ]
  },
  {
   "cell_type": "code",
   "execution_count": 37,
   "id": "d2577a1c-425b-4470-b3e5-9c8a30357552",
   "metadata": {},
   "outputs": [
    {
     "data": {
      "text/plain": [
       "True"
      ]
     },
     "execution_count": 37,
     "metadata": {},
     "output_type": "execute_result"
    }
   ],
   "source": [
    "'llo' in 'hello'"
   ]
  },
  {
   "cell_type": "code",
   "execution_count": 38,
   "id": "55b7edc5-2fce-439d-8f4e-85af2a5833d7",
   "metadata": {},
   "outputs": [
    {
     "data": {
      "text/plain": [
       "False"
      ]
     },
     "execution_count": 38,
     "metadata": {},
     "output_type": "execute_result"
    }
   ],
   "source": [
    "'m' in \"python\""
   ]
  },
  {
   "cell_type": "code",
   "execution_count": 24,
   "id": "48e9376e-a982-4624-b8ee-be9706d9a325",
   "metadata": {},
   "outputs": [
    {
     "data": {
      "text/plain": [
       "['Sunday', 'Monday', 'Tuesday', 'Wednesday', 'Thrusday', 'Friday', 'Saturday']"
      ]
     },
     "execution_count": 24,
     "metadata": {},
     "output_type": "execute_result"
    }
   ],
   "source": [
    "days_of_week = ['Sunday','Monday','Tuesday','Wednesday','Thrusday','Friday','Saturday']\n",
    "days_of_week"
   ]
  },
  {
   "cell_type": "code",
   "execution_count": 41,
   "id": "bdb1431f-0f44-4d90-8203-e35187f3e8f4",
   "metadata": {},
   "outputs": [
    {
     "data": {
      "text/plain": [
       "7"
      ]
     },
     "execution_count": 41,
     "metadata": {},
     "output_type": "execute_result"
    }
   ],
   "source": [
    "len(days_of_week)"
   ]
  },
  {
   "cell_type": "code",
   "execution_count": 48,
   "id": "35818768-dad1-40a0-b0ab-a1dbd5c8cd87",
   "metadata": {},
   "outputs": [
    {
     "name": "stdout",
     "output_type": "stream",
     "text": [
      "Saturday\n"
     ]
    }
   ],
   "source": [
    "print(days_of_week[-1])"
   ]
  },
  {
   "cell_type": "code",
   "execution_count": 8,
   "id": "c6388c43-8c68-416b-bf7a-8e6985196011",
   "metadata": {},
   "outputs": [
    {
     "ename": "TypeError",
     "evalue": "list indices must be integers or slices, not tuple",
     "output_type": "error",
     "traceback": [
      "\u001b[0;31m---------------------------------------------------------------------------\u001b[0m",
      "\u001b[0;31mTypeError\u001b[0m                                 Traceback (most recent call last)",
      "Cell \u001b[0;32mIn[8], line 1\u001b[0m\n\u001b[0;32m----> 1\u001b[0m \u001b[38;5;28mprint\u001b[39m(\u001b[43mdays_of_week\u001b[49m\u001b[43m[\u001b[49m\u001b[43m(\u001b[49m\u001b[38;5;241;43m0\u001b[39;49m\u001b[43m,\u001b[49m\u001b[38;5;241;43m3\u001b[39;49m\u001b[43m)\u001b[49m\u001b[43m]\u001b[49m)\n",
      "\u001b[0;31mTypeError\u001b[0m: list indices must be integers or slices, not tuple"
     ]
    }
   ],
   "source": [
    "print(days_of_week[0,3])"
   ]
  },
  {
   "cell_type": "code",
   "execution_count": 15,
   "id": "16989b93-a1a6-4b4b-93ba-d1ecd75d83e5",
   "metadata": {},
   "outputs": [
    {
     "name": "stdout",
     "output_type": "stream",
     "text": [
      "['MON', 'TUE', 'WED']\n",
      "['Sunday', 'MON', 'TUE', 'WED', 'Friday', 'Saturday']\n"
     ]
    }
   ],
   "source": [
    "test_day = days_of_week[1:4]\n",
    "print(test_day)\n",
    "print(days_of_week)"
   ]
  },
  {
   "cell_type": "code",
   "execution_count": 6,
   "id": "108d60fe-bf63-460e-bcf2-06942305f73b",
   "metadata": {},
   "outputs": [
    {
     "data": {
      "text/plain": [
       "['Sunday', 'Monday', 'Tuesday']"
      ]
     },
     "execution_count": 6,
     "metadata": {},
     "output_type": "execute_result"
    }
   ],
   "source": [
    "days_of_week[:3]"
   ]
  },
  {
   "cell_type": "code",
   "execution_count": 7,
   "id": "91b298ce-f47a-4464-9b79-eec9a32e08ff",
   "metadata": {},
   "outputs": [
    {
     "data": {
      "text/plain": [
       "['Friday', 'Saturday']"
      ]
     },
     "execution_count": 7,
     "metadata": {},
     "output_type": "execute_result"
    }
   ],
   "source": [
    "days_of_week[5:]"
   ]
  },
  {
   "cell_type": "code",
   "execution_count": 9,
   "id": "a8bf969f-a81f-4fab-a77a-f0c99e9ed2c9",
   "metadata": {},
   "outputs": [
    {
     "data": {
      "text/plain": [
       "True"
      ]
     },
     "execution_count": 9,
     "metadata": {},
     "output_type": "execute_result"
    }
   ],
   "source": [
    "'Saturday' in days_of_week"
   ]
  },
  {
   "cell_type": "code",
   "execution_count": 26,
   "id": "c58d6a7b-5708-40eb-8a32-ae0915b15e2a",
   "metadata": {},
   "outputs": [
    {
     "data": {
      "text/plain": [
       "['Sunday', 'MON', 'TUE', 'WED', 'Thrusday', 'Friday', 'Saturday']"
      ]
     },
     "execution_count": 26,
     "metadata": {},
     "output_type": "execute_result"
    }
   ],
   "source": [
    "days_of_week[1] = \"MON\"\n",
    "days_of_week"
   ]
  },
  {
   "cell_type": "code",
   "execution_count": 25,
   "id": "7709d1db-34a2-47ee-b1d4-b6b9c0f138d9",
   "metadata": {},
   "outputs": [
    {
     "data": {
      "text/plain": [
       "['Sunday', 'Monday', 'TUE', 'WED', 'Thrusday', 'Friday', 'Saturday']"
      ]
     },
     "execution_count": 25,
     "metadata": {},
     "output_type": "execute_result"
    }
   ],
   "source": [
    "days_of_week[2:4] = [\"TUE\",\"WED\"]\n",
    "days_of_week"
   ]
  },
  {
   "cell_type": "code",
   "execution_count": 28,
   "id": "e47cd694-e545-4b04-b045-b9b1d1ef90bf",
   "metadata": {},
   "outputs": [
    {
     "data": {
      "text/plain": [
       "['Sunday', 'MON', 'TUE', 'WED', 'Friday', 'Saturday']"
      ]
     },
     "execution_count": 28,
     "metadata": {},
     "output_type": "execute_result"
    }
   ],
   "source": [
    "days_of_week[2:5] = [\"TUE\",\"WED\"]  \n",
    "days_of_week"
   ]
  },
  {
   "cell_type": "code",
   "execution_count": 42,
   "id": "6c33e607-084a-4bf9-9c67-dd665ffe526c",
   "metadata": {},
   "outputs": [
    {
     "data": {
      "text/plain": [
       "['Sunday', 'MON', ('TUE', 'WED'), 'WED', 'Friday', 'Saturday']"
      ]
     },
     "execution_count": 42,
     "metadata": {},
     "output_type": "execute_result"
    }
   ],
   "source": [
    "days_of_week[2] = \"TUE\",\"WED\"  \n",
    "days_of_week"
   ]
  },
  {
   "cell_type": "code",
   "execution_count": 45,
   "id": "42518847-09e5-48ba-9ff5-905a316e136f",
   "metadata": {},
   "outputs": [
    {
     "data": {
      "text/plain": [
       "'WED'"
      ]
     },
     "execution_count": 45,
     "metadata": {},
     "output_type": "execute_result"
    }
   ],
   "source": [
    "days_of_week[2][1]"
   ]
  },
  {
   "cell_type": "code",
   "execution_count": 41,
   "id": "3ec8b427-ba3b-478c-aa18-785437acca9f",
   "metadata": {},
   "outputs": [
    {
     "data": {
      "text/plain": [
       "5"
      ]
     },
     "execution_count": 41,
     "metadata": {},
     "output_type": "execute_result"
    }
   ],
   "source": [
    "x = ['a','b','c','d','e']\n",
    "len(x)"
   ]
  },
  {
   "cell_type": "code",
   "execution_count": 39,
   "id": "68b335a5-08e2-41f9-9a73-b6d9f85fe230",
   "metadata": {},
   "outputs": [
    {
     "data": {
      "text/plain": [
       "['a', 'f', 'd', 'e']"
      ]
     },
     "execution_count": 39,
     "metadata": {},
     "output_type": "execute_result"
    }
   ],
   "source": [
    "x[1:3] =  'f'\n",
    "x"
   ]
  },
  {
   "cell_type": "code",
   "execution_count": 40,
   "id": "c48e68a2-2adc-47a8-8e5b-4f8de5a1a35c",
   "metadata": {},
   "outputs": [
    {
     "data": {
      "text/plain": [
       "4"
      ]
     },
     "execution_count": 40,
     "metadata": {},
     "output_type": "execute_result"
    }
   ],
   "source": [
    "len(x)"
   ]
  },
  {
   "cell_type": "code",
   "execution_count": 56,
   "id": "f9e045d0-91ed-4891-853f-e0d449703b07",
   "metadata": {},
   "outputs": [
    {
     "data": {
      "text/plain": [
       "[1, 'Harry', 2, 3]"
      ]
     },
     "execution_count": 56,
     "metadata": {},
     "output_type": "execute_result"
    }
   ],
   "source": [
    "my_list= [1,2,3]\n",
    "my_list.insert(1,'Harry')\n",
    "my_list"
   ]
  },
  {
   "cell_type": "code",
   "execution_count": 59,
   "id": "f915d592-db6c-49f7-a21c-2eac368ac5ba",
   "metadata": {},
   "outputs": [
    {
     "data": {
      "text/plain": [
       "[1, 'Harry', 2, 3, 4, 4]"
      ]
     },
     "execution_count": 59,
     "metadata": {},
     "output_type": "execute_result"
    }
   ],
   "source": [
    "my_list.append(4)\n",
    "my_list"
   ]
  },
  {
   "cell_type": "code",
   "execution_count": 60,
   "id": "82b8af7b-1dd1-4906-878e-9d795b979a50",
   "metadata": {},
   "outputs": [
    {
     "data": {
      "text/plain": [
       "[1, 'Harry', 2, 3, 4, 4, 100, 200, 300]"
      ]
     },
     "execution_count": 60,
     "metadata": {},
     "output_type": "execute_result"
    }
   ],
   "source": [
    "list_to_add = [ 100,200,300]\n",
    "my_list.extend(list_to_add) # ADD MULTPLES  VALUES OR AND ENTIRE LIST\n",
    "my_list"
   ]
  },
  {
   "cell_type": "code",
   "execution_count": 65,
   "id": "e83cf5ba-f77c-47f0-9dc8-9ac2f0739870",
   "metadata": {},
   "outputs": [
    {
     "ename": "ValueError",
     "evalue": "list.remove(x): x not in list",
     "output_type": "error",
     "traceback": [
      "\u001b[0;31m---------------------------------------------------------------------------\u001b[0m",
      "\u001b[0;31mValueError\u001b[0m                                Traceback (most recent call last)",
      "Cell \u001b[0;32mIn[65], line 1\u001b[0m\n\u001b[0;32m----> 1\u001b[0m \u001b[43mmy_list\u001b[49m\u001b[38;5;241;43m.\u001b[39;49m\u001b[43mremove\u001b[49m\u001b[43m(\u001b[49m\u001b[38;5;124;43m'\u001b[39;49m\u001b[38;5;124;43mHarry\u001b[39;49m\u001b[38;5;124;43m'\u001b[39;49m\u001b[43m)\u001b[49m\n",
      "\u001b[0;31mValueError\u001b[0m: list.remove(x): x not in list"
     ]
    }
   ],
   "source": [
    "my_list.remove('Harry') # REMOVES hARRY FROM THE LIST"
   ]
  },
  {
   "cell_type": "code",
   "execution_count": 68,
   "id": "89ac3582",
   "metadata": {},
   "outputs": [
    {
     "data": {
      "text/plain": [
       "[1, 2, 3, 4, 100, 200]"
      ]
     },
     "execution_count": 68,
     "metadata": {},
     "output_type": "execute_result"
    }
   ],
   "source": [
    "my_list # MY_LIST.CLEAR WILL CLEAR THE ENTIRE LIST"
   ]
  },
  {
   "cell_type": "code",
   "execution_count": 66,
   "id": "24d97a0c-c9cb-4f25-9d0e-8b23cffd5948",
   "metadata": {},
   "outputs": [
    {
     "data": {
      "text/plain": [
       "300"
      ]
     },
     "execution_count": 66,
     "metadata": {},
     "output_type": "execute_result"
    }
   ],
   "source": [
    "my_list.pop() #REMOVES LAST ELEMENT FORM THE LIST "
   ]
  },
  {
   "cell_type": "code",
   "execution_count": 67,
   "id": "52f8cf0b-ce49-4927-bbc6-7a1b76ca90ec",
   "metadata": {},
   "outputs": [
    {
     "data": {
      "text/plain": [
       "4"
      ]
     },
     "execution_count": 67,
     "metadata": {},
     "output_type": "execute_result"
    }
   ],
   "source": [
    "my_list.pop(4) #REMOVES THE VALVE OF GIVEN INDEX"
   ]
  },
  {
   "cell_type": "code",
   "execution_count": null,
   "id": "b6a516a6-3073-4097-a43e-c8fe82ae8676",
   "metadata": {},
   "outputs": [],
   "source": [
    "del my_list # will delet the list "
   ]
  },
  {
   "cell_type": "code",
   "execution_count": null,
   "id": "03bcc94a-f136-48b2-ab3a-ed773d8a6295",
   "metadata": {},
   "outputs": [],
   "source": [
    "my)list.clear() # this wil  delete all  all the element inside of a list "
   ]
  },
  {
   "cell_type": "code",
   "execution_count": 2,
   "id": "796b7d44-e097-465f-829d-52fa04820a96",
   "metadata": {},
   "outputs": [
    {
     "data": {
      "text/plain": [
       "['apr', 'feb', 'jan', 'mar']"
      ]
     },
     "execution_count": 2,
     "metadata": {},
     "output_type": "execute_result"
    }
   ],
   "source": [
    "months_list  = [ 'jan','feb','mar','apr']\n",
    "months_list.sort()\n",
    "months_list"
   ]
  },
  {
   "cell_type": "code",
   "execution_count": 3,
   "id": "c622cd31-9e5f-48cc-aba4-ee5ab121494a",
   "metadata": {},
   "outputs": [
    {
     "data": {
      "text/plain": [
       "[1970, 1986, 1999, 2021]"
      ]
     },
     "execution_count": 3,
     "metadata": {},
     "output_type": "execute_result"
    }
   ],
   "source": [
    "years_list = [ 1999,1986,2021,1970]\n",
    "years_list.sort()\n",
    "years_list"
   ]
  },
  {
   "cell_type": "code",
   "execution_count": 4,
   "id": "1f585fa9-297a-41f6-bf45-120204321386",
   "metadata": {},
   "outputs": [
    {
     "data": {
      "text/plain": [
       "[100, 15, 10, 5, 3, -1]"
      ]
     },
     "execution_count": 4,
     "metadata": {},
     "output_type": "execute_result"
    }
   ],
   "source": [
    "num_list = [5,3,10,15,-1,100]\n",
    "num_list.sort(reverse = True)\n",
    "num_list"
   ]
  },
  {
   "cell_type": "code",
   "execution_count": 7,
   "id": "b6b036c1-1203-48ee-aeeb-fd0005740c4b",
   "metadata": {},
   "outputs": [
    {
     "data": {
      "text/plain": [
       "['chicago', 'Kathmandu', 'Lahore', 'london', 'new york']"
      ]
     },
     "execution_count": 7,
     "metadata": {},
     "output_type": "execute_result"
    }
   ],
   "source": [
    "cities_list = [ \"Kathmandu\",\"london\",\"chicago\",\"new york\",\"Lahore\"]\n",
    "cities_list.sort(key= str.lower)\n",
    "cities_list"
   ]
  },
  {
   "cell_type": "code",
   "execution_count": 8,
   "id": "ba29eaac-1c3b-43de-b166-ed4b2f04d0ca",
   "metadata": {},
   "outputs": [
    {
     "data": {
      "text/plain": [
       "[5, 1, 4, 3]"
      ]
     },
     "execution_count": 8,
     "metadata": {},
     "output_type": "execute_result"
    }
   ],
   "source": [
    "my_list = [3,4,1,5]\n",
    "my_list.reverse() # permentaly reverse the list\n",
    "my_list"
   ]
  },
  {
   "cell_type": "code",
   "execution_count": 10,
   "id": "5d87ea0f-4647-473e-9df6-a92f8c3bfae4",
   "metadata": {},
   "outputs": [
    {
     "data": {
      "text/plain": [
       "[5, 1, 4, 3]"
      ]
     },
     "execution_count": 10,
     "metadata": {},
     "output_type": "execute_result"
    }
   ],
   "source": [
    "me_list = my_list.copy()\n",
    "me_list"
   ]
  },
  {
   "cell_type": "code",
   "execution_count": 11,
   "id": "67a57c3f-9f36-47fb-994d-cef58dca15fe",
   "metadata": {},
   "outputs": [
    {
     "name": "stdout",
     "output_type": "stream",
     "text": [
      "[1, 2, 3, 'hi', 'there']\n"
     ]
    }
   ],
   "source": [
    "list_1= [ 1,2,3]\n",
    "list_2=[\"hi\",\"there\"]\n",
    "list_3 = list_1+list_2 # \n",
    "print(list_3)"
   ]
  },
  {
   "cell_type": "code",
   "execution_count": 13,
   "id": "698502f8-17ca-478a-880f-fdfc144c3754",
   "metadata": {},
   "outputs": [
    {
     "data": {
      "text/plain": [
       "[1, 2, 3, 'hi', 'there', 1, 2, 3, 1, 2, 3]"
      ]
     },
     "execution_count": 13,
     "metadata": {},
     "output_type": "execute_result"
    }
   ],
   "source": [
    "list_3.extend(list_1)\n",
    "list_3"
   ]
  },
  {
   "cell_type": "code",
   "execution_count": 28,
   "id": "92539f9b-d76e-4146-982d-c75ae9033205",
   "metadata": {},
   "outputs": [
    {
     "name": "stdout",
     "output_type": "stream",
     "text": [
      "Get Citizenship Card\n"
     ]
    }
   ],
   "source": [
    "Age = 18 \n",
    "if Age > 18:\n",
    "    print(\"YOU CAN VOTE\")\n",
    "elif Age<18:\n",
    "    print(\"YOU CANN'T VOTE\")\n",
    "elif Age == 18:\n",
    "    print(\"Get Citizenship Card\")"
   ]
  },
  {
   "cell_type": "code",
   "execution_count": 1,
   "id": "ad8166b2-2824-4f13-be8c-ce317be565d0",
   "metadata": {},
   "outputs": [
    {
     "name": "stdin",
     "output_type": "stream",
     "text": [
      "Eneter the amount 5000\n"
     ]
    },
    {
     "name": "stdout",
     "output_type": "stream",
     "text": [
      "Your price after 15% discount is  4250.0\n"
     ]
    }
   ],
   "source": [
    "\"\"\" 500 - 5%\n",
    " 1000-10%\n",
    "5000 - 15%\n",
    "500< - 0%\n",
    "\"\"\"\n",
    "Total_cost = int(input(\"Eneter the amount\"))\n",
    "\n",
    "if Total_cost < 500:\n",
    "    print(\"Sorry!! No Discount\")\n",
    "elif Total_cost >= 500 and Total_cost < 1000:\n",
    "    Total_cost = Total_cost-(Total_cost*(5/100))\n",
    "    print(\"Your price after 5% discount is \",Total_cost)\n",
    "elif Total_cost >= 1000 and Total_cost < 5000:\n",
    "    Total_cost = Total_cost-(Total_cost*(10/100))\n",
    "    print(\"Your price after 10% discount is \",Total_cost)\n",
    "elif Total_cost >= 5000:\n",
    "    Total_cost = Total_cost-(Total_cost*(15/100))\n",
    "    print(\"Your price after 15% discount is \",Total_cost)\n",
    "    "
   ]
  },
  {
   "cell_type": "code",
   "execution_count": 2,
   "id": "ef09a508-b62c-4023-9730-25463df12ba7",
   "metadata": {},
   "outputs": [
    {
     "name": "stdin",
     "output_type": "stream",
     "text": [
      "Enter your name YO HARRY\n"
     ]
    },
    {
     "name": "stdout",
     "output_type": "stream",
     "text": [
      "Your name is  YO HARRY\n"
     ]
    }
   ],
   "source": [
    "Name = input(\"Enter your name\")\n",
    "print(\"Your name is \",Name)"
   ]
  },
  {
   "cell_type": "code",
   "execution_count": 11,
   "id": "c5881ce9-14ea-444c-8601-dbdf39151e64",
   "metadata": {},
   "outputs": [
    {
     "name": "stdin",
     "output_type": "stream",
     "text": [
      "Enter the value of x 4\n"
     ]
    },
    {
     "name": "stdout",
     "output_type": "stream",
     "text": [
      "x is greater than 3\n"
     ]
    }
   ],
   "source": [
    "x = int(input(\"Enter the value of x\"))\n",
    "if x > 5:\n",
    "    print(\"x is greater than 5\")\n",
    "elif x >3 :\n",
    "    print(\"x is greater than 3\")\n",
    "elif x > 1:\n",
    "    print(\"x is greater than 1\")\n",
    "else:\n",
    "    print(\"X is less than or equal to 1\")\n",
    "\n"
   ]
  },
  {
   "cell_type": "code",
   "execution_count": 8,
   "id": "28d0331f-1820-45dc-98b3-8f1ae495a2f4",
   "metadata": {},
   "outputs": [
    {
     "name": "stdout",
     "output_type": "stream",
     "text": [
      "X is equal to 3\n"
     ]
    }
   ],
   "source": [
    "x = 3\n",
    "if x==3:print(\"X is equal to 3\")"
   ]
  },
  {
   "cell_type": "code",
   "execution_count": 12,
   "id": "f454135b-04e2-4491-ad62-d04ef8ab385a",
   "metadata": {},
   "outputs": [
    {
     "name": "stdout",
     "output_type": "stream",
     "text": [
      "x is equal to 2\n"
     ]
    }
   ],
   "source": [
    "x = 2 \n",
    "print(\"x is equal to 2\") if x == 2 else print(\"x is no equal to x\")"
   ]
  },
  {
   "cell_type": "code",
   "execution_count": 14,
   "id": "d34d499a-fd9a-4733-849a-e3384d6088fd",
   "metadata": {},
   "outputs": [
    {
     "name": "stdout",
     "output_type": "stream",
     "text": [
      "X is greater than 10\n",
      "x is greate than 30 as well\n"
     ]
    }
   ],
   "source": [
    "x = 35\n",
    "if x > 10:\n",
    "    print(\"X is greater than 10\")\n",
    "    if x < 30:\n",
    "        print(\"x is less than 30\")\n",
    "    else:\n",
    "        print(\"x is greate than 30 as well\")"
   ]
  },
  {
   "cell_type": "code",
   "execution_count": 24,
   "id": "a8ffb155-2fd3-4133-b79d-6e5d60388938",
   "metadata": {},
   "outputs": [
    {
     "name": "stdin",
     "output_type": "stream",
     "text": [
      "WHERE ARE YOU FORM?? ( 'USA OR INTERNATIONAL') USA\n",
      "ENTER YOUR TOTAL ORDER 45\n"
     ]
    },
    {
     "name": "stdout",
     "output_type": "stream",
     "text": [
      "YOUR SHIPPING FEE IS 5$\n"
     ]
    }
   ],
   "source": [
    "LOCATION = input(\"WHERE ARE YOU FORM?? ( 'USA OR INTERNATIONAL')\")\n",
    "if LOCATION.upper() == \"USA\":\n",
    "    total_cost = int(input(\"ENTER YOUR TOTAL ORDER\"))\n",
    "    if total_cost > 50:\n",
    "        print(\"YOUR SHIPPING IS FREE\")\n",
    "    else:\n",
    "        print(\"YOUR SHIPPING FEE IS 5$\")\n",
    "elif LOCATION.upper() == \"INTERNATIONAL\":\n",
    "    total_cost = int(input(\"ENTER YOUR TOTAL ORDER\"))\n",
    "    if total_cost > 50:\n",
    "        print(\"YOUR SHIPPING IS 10$\")\n",
    "    else:\n",
    "        print(\"YOUR SHIPPING FEE IS 20$\")\n",
    "else:\n",
    "    print(\"INVALID LOCATION\")\n",
    "    \n",
    "\n",
    "    \n",
    "                      \n",
    "                           \n",
    "    \n"
   ]
  },
  {
   "cell_type": "code",
   "execution_count": 1,
   "id": "734ee302-3033-4cc2-b0e8-43bec8edc310",
   "metadata": {},
   "outputs": [
    {
     "name": "stdout",
     "output_type": "stream",
     "text": [
      "10\n",
      "9\n",
      "8\n",
      "7\n",
      "6\n"
     ]
    }
   ],
   "source": [
    "x = 10\n",
    "while x > 5:\n",
    "    print(x)\n",
    "    x -=1"
   ]
  },
  {
   "cell_type": "code",
   "execution_count": 5,
   "id": "f009d66e-0a8b-4145-b8c9-2b3a378bd263",
   "metadata": {},
   "outputs": [
    {
     "name": "stdout",
     "output_type": "stream",
     "text": [
      "1\n",
      "2\n",
      "3\n",
      "4\n",
      "5\n",
      "6\n",
      "7\n",
      "8\n",
      "10\n",
      "11\n",
      "12\n",
      "13\n",
      "14\n",
      "15\n"
     ]
    }
   ],
   "source": [
    "x = 0\n",
    "while x < 15:\n",
    "    x +=1\n",
    "    if x == 9:\n",
    "        continue\n",
    "    print(x)\n"
   ]
  },
  {
   "cell_type": "code",
   "execution_count": 7,
   "id": "346a064b-0245-4ae7-8975-1a537bfa2d51",
   "metadata": {},
   "outputs": [
    {
     "name": "stdout",
     "output_type": "stream",
     "text": [
      "one\n"
     ]
    }
   ],
   "source": [
    "lst = [\"one\",\"two\",\"three\"]\n",
    "for num in lst:\n",
    "    if num ==\"two\":\n",
    "        break\n",
    "    print(num)"
   ]
  },
  {
   "cell_type": "code",
   "execution_count": 8,
   "id": "7ca5db93-a8db-4d13-ab86-420a72249bfc",
   "metadata": {},
   "outputs": [
    {
     "name": "stdout",
     "output_type": "stream",
     "text": [
      "p\n",
      "y\n",
      "t\n",
      "h\n",
      "o\n",
      "n\n"
     ]
    }
   ],
   "source": [
    "for  x in \"python\":\n",
    "    print(x)"
   ]
  },
  {
   "cell_type": "code",
   "execution_count": 9,
   "id": "f1912e1b-1929-4e40-9088-9f10d6241d3e",
   "metadata": {},
   "outputs": [
    {
     "name": "stdout",
     "output_type": "stream",
     "text": [
      "0\n",
      "1\n",
      "2\n",
      "3\n",
      "4\n",
      "5\n",
      "6\n",
      "7\n",
      "8\n",
      "9\n"
     ]
    }
   ],
   "source": [
    "for i in range(10):\n",
    "    print(i)"
   ]
  },
  {
   "cell_type": "code",
   "execution_count": 13,
   "id": "c83761fc-018b-4838-b4b4-3304d5514c8c",
   "metadata": {},
   "outputs": [
    {
     "name": "stdout",
     "output_type": "stream",
     "text": [
      "2\n",
      "5\n",
      "8\n"
     ]
    }
   ],
   "source": [
    "for i in range(2,10,3):\n",
    "    print(i)"
   ]
  },
  {
   "cell_type": "code",
   "execution_count": 14,
   "id": "4bebfca2-eb3d-486e-aac3-6a241bafca3f",
   "metadata": {},
   "outputs": [
    {
     "name": "stdout",
     "output_type": "stream",
     "text": [
      "red chair\n",
      "red table\n",
      "red house\n",
      "blue chair\n",
      "blue table\n",
      "blue house\n",
      "green chair\n",
      "green table\n",
      "green house\n"
     ]
    }
   ],
   "source": [
    "colors = [ 'red','blue','green']\n",
    "objects = ['chair','table','house']\n",
    "\n",
    "for i in colors:\n",
    "    for j in objects:\n",
    "        print(i,j)"
   ]
  },
  {
   "cell_type": "code",
   "execution_count": 26,
   "id": "c0c29c15-c388-4843-8ed0-dc4a60182592",
   "metadata": {},
   "outputs": [
    {
     "name": "stdout",
     "output_type": "stream",
     "text": [
      "1 2 3 4 5  \n",
      "1 2 3 4 5  \n",
      "1 2 3 4 5  \n",
      "1 2 3 4 5  \n",
      "1 2 3 4 5  \n"
     ]
    }
   ],
   "source": [
    "\n",
    "for i in range(1,6):\n",
    "    for j in range(1,6):\n",
    "        print(j,end =' ')\n",
    "    print(\" \")\n"
   ]
  },
  {
   "cell_type": "code",
   "execution_count": 28,
   "id": "9b731888-6957-4b2b-9988-31834b7fe65c",
   "metadata": {},
   "outputs": [
    {
     "name": "stdout",
     "output_type": "stream",
     "text": [
      "this ['red', 'blue', 'green']\n"
     ]
    }
   ],
   "source": [
    "print(f\"this {colors}\")"
   ]
  },
  {
   "cell_type": "code",
   "execution_count": 4,
   "id": "39c4cdc7-8fd8-4b53-ad31-e50678d760cf",
   "metadata": {},
   "outputs": [
    {
     "ename": "TypeError",
     "evalue": "add() takes 2 positional arguments but 3 were given",
     "output_type": "error",
     "traceback": [
      "\u001b[0;31m---------------------------------------------------------------------------\u001b[0m",
      "\u001b[0;31mTypeError\u001b[0m                                 Traceback (most recent call last)",
      "Cell \u001b[0;32mIn[4], line 4\u001b[0m\n\u001b[1;32m      2\u001b[0m     \u001b[38;5;28;01mreturn\u001b[39;00m x \u001b[38;5;241m+\u001b[39my\n\u001b[1;32m      3\u001b[0m add(\u001b[38;5;241m4\u001b[39m,\u001b[38;5;241m6\u001b[39m)\n\u001b[0;32m----> 4\u001b[0m \u001b[43madd\u001b[49m\u001b[43m(\u001b[49m\u001b[38;5;241;43m5\u001b[39;49m\u001b[43m,\u001b[49m\u001b[38;5;241;43m4\u001b[39;49m\u001b[43m,\u001b[49m\u001b[38;5;241;43m5\u001b[39;49m\u001b[43m)\u001b[49m\n",
      "\u001b[0;31mTypeError\u001b[0m: add() takes 2 positional arguments but 3 were given"
     ]
    }
   ],
   "source": [
    "def add(x,y):\n",
    "    return x + y\n",
    "add(4,6)\n",
    "add(5,4,5)"
   ]
  },
  {
   "cell_type": "code",
   "execution_count": 5,
   "id": "f4ed84b6-dc62-41a1-8629-0dcb2543dc30",
   "metadata": {},
   "outputs": [
    {
     "data": {
      "text/plain": [
       "30"
      ]
     },
     "execution_count": 5,
     "metadata": {},
     "output_type": "execute_result"
    }
   ],
   "source": [
    "def add(*nums):\n",
    "    sum = 0\n",
    "    for i in nums:\n",
    "        sum+=i\n",
    "    return sum\n",
    "\n",
    "add(3,4,5,6,7,5)"
   ]
  },
  {
   "cell_type": "code",
   "execution_count": 9,
   "id": "55dd5d2d-d4ef-441c-83f9-87244f21cb1b",
   "metadata": {},
   "outputs": [
    {
     "data": {
      "text/plain": [
       "20"
      ]
     },
     "execution_count": 9,
     "metadata": {},
     "output_type": "execute_result"
    }
   ],
   "source": [
    "def mul(x , y = 4):\n",
    "    return x * y\n",
    "mul(4)\n",
    "mul(4,5)\n"
   ]
  },
  {
   "cell_type": "code",
   "execution_count": 20,
   "id": "08aa1dd3-c7ed-47cf-9d46-1985ff81310b",
   "metadata": {},
   "outputs": [
    {
     "data": {
      "text/plain": [
       "-2"
      ]
     },
     "execution_count": 20,
     "metadata": {},
     "output_type": "execute_result"
    }
   ],
   "source": [
    "def sub(y,x = 4): #default valus must be place after a normal parameter\n",
    "    return x - y\n",
    "#sub(4)\n",
    "sub(6)\n"
   ]
  },
  {
   "cell_type": "code",
   "execution_count": 22,
   "id": "86a7139d-e68e-45fc-9d61-9985f691a7dd",
   "metadata": {},
   "outputs": [
    {
     "data": {
      "text/plain": [
       "6"
      ]
     },
     "execution_count": 22,
     "metadata": {},
     "output_type": "execute_result"
    }
   ],
   "source": [
    "sum = lambda x,y,z: x+y+z #this is lambda function one line function and can't be call\n",
    "sum(1,2,3)"
   ]
  },
  {
   "cell_type": "code",
   "execution_count": 28,
   "id": "f934561a-6d96-47f7-85ba-0320c2ab2411",
   "metadata": {},
   "outputs": [
    {
     "name": "stdout",
     "output_type": "stream",
     "text": [
      "This is my calculatr app\n",
      "Enter 1.ADD 2.SUB 3.MUL 4.DIV \n"
     ]
    },
    {
     "name": "stdin",
     "output_type": "stream",
     "text": [
      "Enter your choice  1\n",
      "enter the value of x 4\n",
      "enter the value of y 5\n",
      "enter the value of z 6\n"
     ]
    },
    {
     "name": "stdout",
     "output_type": "stream",
     "text": [
      "15\n"
     ]
    }
   ],
   "source": [
    "def sum(x , y , z):\n",
    "    return x + y + z\n",
    "def sub(x , y,z):\n",
    "    return x - y - z\n",
    "def myl(x , y , z):\n",
    "    return x * y * z\n",
    "def div(x ,y):\n",
    "    return x / y\n",
    "def xyzValue()\n",
    "print(\"This is my calculatr app\")\n",
    "print(\"Enter 1.ADD 2.SUB 3.MUL 4.DIV \")\n",
    "choice = int(input(\"Enter your choice \"))\n",
    "if choice == 1:\n",
    "    x = int(input(\"enter the value of x\"))\n",
    "    y = int(input(\"enter the value of y\"))\n",
    "    z = int(input(\"enter the value of z\"))\n",
    "    print(\"The sum of three number is \", sum(x,y,z))\n",
    "elif choice == 2:\n",
    "    x = int(input(\"enter the value of x\"))\n",
    "    y = int(input(\"enter the value of y\"))\n",
    "    z = int(input(\"enter the value of z\"))\n",
    "    print(sub(x,y,z))\n",
    "elif choice ==3:\n",
    "    x = int(input(\"enter the value of x\"))\n",
    "    y = int(input(\"enter the value of y\"))\n",
    "    z = int(input(\"enter the value of z\"))\n",
    "    print(mul(x,y,z))\n",
    "elif choice == 4:\n",
    "    x = int(input(\"enter the value of x\"))\n",
    "    y = int(input(\"enter the value of y\"))\n",
    "    print(div(x,y))\n",
    "else:\n",
    "    print(\"INVALID CHOICE\")\n"
   ]
  },
  {
   "cell_type": "code",
   "execution_count": 33,
   "id": "a278ab91-76c4-4751-bd86-2af6ee4d0e13",
   "metadata": {},
   "outputs": [
    {
     "name": "stdout",
     "output_type": "stream",
     "text": [
      "---------------Harry Bakery--------------\n"
     ]
    },
    {
     "name": "stdin",
     "output_type": "stream",
     "text": [
      "Enter the number of noodles sold:  23\n",
      "Enter the number of biscut soled:  12\n"
     ]
    },
    {
     "name": "stdout",
     "output_type": "stream",
     "text": [
      "The total sales for the day is  580\n"
     ]
    }
   ],
   "source": [
    "print(\"---------------Harry Bakery--------------\")\n",
    "def totalSales(num_noodles,num_biscuit):\n",
    "    return (num_noodles * 20) + (num_biscuit * 10)\n",
    "num_noodles = int(input(\"Enter the number of noodles sold: \"))\n",
    "num_biscuit = int(input(\"Enter the number of biscut soled: \"))\n",
    "\n",
    "print(\"The total sales for the day is \",totalSales(num_noodles,num_biscuit))\n",
    "\n",
    "    "
   ]
  },
  {
   "cell_type": "code",
   "execution_count": 1,
   "id": "181a35d3-b5e9-4e2c-801b-52749db2cb7d",
   "metadata": {},
   "outputs": [
    {
     "data": {
      "text/plain": [
       "('hi', 'There', 2, 3)"
      ]
     },
     "execution_count": 1,
     "metadata": {},
     "output_type": "execute_result"
    }
   ],
   "source": [
    "#example of tuples\n",
    "my_tuple = (\"hi\",\"There\",2,3)\n",
    "my_tuple"
   ]
  },
  {
   "cell_type": "code",
   "execution_count": 3,
   "id": "629e14ed-15ba-4daf-b151-4578718744d2",
   "metadata": {},
   "outputs": [
    {
     "name": "stdout",
     "output_type": "stream",
     "text": [
      "hi\n",
      "There\n",
      "2\n"
     ]
    }
   ],
   "source": [
    "print(my_tuple[0])\n",
    "print(my_tuple[1])\n",
    "print(my_tuple[2])"
   ]
  },
  {
   "cell_type": "code",
   "execution_count": 4,
   "id": "253e9d71-942c-4d93-8950-14420cdc7aea",
   "metadata": {},
   "outputs": [
    {
     "data": {
      "text/plain": [
       "4"
      ]
     },
     "execution_count": 4,
     "metadata": {},
     "output_type": "execute_result"
    }
   ],
   "source": [
    "len(my_tuple)"
   ]
  },
  {
   "cell_type": "code",
   "execution_count": 5,
   "id": "68271c7a-2800-4aff-bedc-9b9724628796",
   "metadata": {},
   "outputs": [
    {
     "name": "stdout",
     "output_type": "stream",
     "text": [
      "my_tuple[0]  hello\n",
      "my_tuple[-1]  8.2\n",
      "my_tuple[1:3]  ('world', 1)\n",
      "my_tuple[-3:-1]  ('world', 1)\n",
      "my_tuple[:2]  ('hello', 'world')\n",
      "my_tuple[2:]  (1, 8.2)\n"
     ]
    }
   ],
   "source": [
    "my_tuple = (\"hello\",\"world\",1,8.2)\n",
    "print(\"my_tuple[0] \",my_tuple[0])\n",
    "print(\"my_tuple[-1] \",my_tuple[-1])\n",
    "print(\"my_tuple[1:3] \",my_tuple[1:3])\n",
    "print(\"my_tuple[-3:-1] \",my_tuple[-3:-1])\n",
    "print(\"my_tuple[:2] \",my_tuple[:2])\n",
    "print(\"my_tuple[2:] \",my_tuple[2:])\n",
    "\n",
    "\n"
   ]
  },
  {
   "cell_type": "code",
   "execution_count": 7,
   "id": "298303af-0368-434c-af66-f358101f94ca",
   "metadata": {},
   "outputs": [
    {
     "name": "stdout",
     "output_type": "stream",
     "text": [
      "sma\n",
      "harry\n",
      "tom\n"
     ]
    }
   ],
   "source": [
    "student1,student2,student3 = ('sma',\"harry\",\"tom\")\n",
    "print(student1)\n",
    "print(student2)\n",
    "print(student3)"
   ]
  },
  {
   "cell_type": "code",
   "execution_count": 10,
   "id": "127a0d25-0597-45a1-9e28-3eabff6a68d4",
   "metadata": {},
   "outputs": [
    {
     "name": "stdout",
     "output_type": "stream",
     "text": [
      "this\n",
      "is\n",
      "great\n"
     ]
    }
   ],
   "source": [
    "my_tuple = (\"this\",\"is\",\"great\")# loop through tuple\n",
    "\n",
    "for item in my_tuple:\n",
    "    print(item)"
   ]
  },
  {
   "cell_type": "code",
   "execution_count": 11,
   "id": "9fd531ae-de0d-4461-aa97-bcdd0a30c326",
   "metadata": {},
   "outputs": [
    {
     "name": "stdout",
     "output_type": "stream",
     "text": [
      "(1, 2, 3, 1, 2, 3, 1, 2, 3)\n"
     ]
    }
   ],
   "source": [
    "tuple_1 =(1,2,3)\n",
    "print(tuple_1*3)"
   ]
  },
  {
   "cell_type": "code",
   "execution_count": 12,
   "id": "962a74a3-f8b1-4946-b86e-18e626bd3596",
   "metadata": {},
   "outputs": [
    {
     "data": {
      "text/plain": [
       "{2, 5, 65, 'HI', True}"
      ]
     },
     "execution_count": 12,
     "metadata": {},
     "output_type": "execute_result"
    }
   ],
   "source": [
    "my_set = {2,\"HI\",5,65,True}\n",
    "my_set"
   ]
  },
  {
   "cell_type": "code",
   "execution_count": 15,
   "id": "35dd305e-f007-4ff2-8c5f-2894e29afb83",
   "metadata": {},
   "outputs": [
    {
     "data": {
      "text/plain": [
       "5"
      ]
     },
     "execution_count": 15,
     "metadata": {},
     "output_type": "execute_result"
    }
   ],
   "source": [
    "set_1 = {1,2,\"hi\",\"thrre\",\"hi\",False}\n",
    "set_1\n",
    "len(set_1)"
   ]
  },
  {
   "cell_type": "code",
   "execution_count": 17,
   "id": "c1f2359b-0928-485f-b289-6422af168d2c",
   "metadata": {},
   "outputs": [
    {
     "data": {
      "text/plain": [
       "{1, 5, 65, 'HI'}"
      ]
     },
     "execution_count": 17,
     "metadata": {},
     "output_type": "execute_result"
    }
   ],
   "source": [
    "my_set = {1,\"HI\",5,65,True}# 1 and True are same so only one can be in a single set\n",
    "my_set"
   ]
  },
  {
   "cell_type": "code",
   "execution_count": 18,
   "id": "d1c97d08-2c45-486b-8f7f-674cd5ce6026",
   "metadata": {},
   "outputs": [
    {
     "data": {
      "text/plain": [
       "{'chicago': 3.5, 'New York': 7, 'LA': 6}"
      ]
     },
     "execution_count": 18,
     "metadata": {},
     "output_type": "execute_result"
    }
   ],
   "source": [
    "#python dictonries\n",
    "city_pop ={\n",
    "    \"chicago\":3.5,\n",
    "    \"New York\":7,\n",
    "    \"LA\":6\n",
    "}\n",
    "city_pop"
   ]
  },
  {
   "cell_type": "code",
   "execution_count": 24,
   "id": "48aa6397-b6c8-4e29-aff4-8bddca6e1f1d",
   "metadata": {},
   "outputs": [
    {
     "ename": "KeyError",
     "evalue": "0",
     "output_type": "error",
     "traceback": [
      "\u001b[0;31m---------------------------------------------------------------------------\u001b[0m",
      "\u001b[0;31mKeyError\u001b[0m                                  Traceback (most recent call last)",
      "Cell \u001b[0;32mIn[24], line 1\u001b[0m\n\u001b[0;32m----> 1\u001b[0m \u001b[43mcity_pop\u001b[49m\u001b[43m[\u001b[49m\u001b[38;5;241;43m0\u001b[39;49m\u001b[43m]\u001b[49m\n",
      "\u001b[0;31mKeyError\u001b[0m: 0"
     ]
    }
   ],
   "source": [
    "city_pop[0]"
   ]
  },
  {
   "cell_type": "code",
   "execution_count": 25,
   "id": "6b941de4-9d2e-469c-847d-cc86b5735ceb",
   "metadata": {},
   "outputs": [
    {
     "data": {
      "text/plain": [
       "dict_keys(['chicago', 'New York', 'LA'])"
      ]
     },
     "execution_count": 25,
     "metadata": {},
     "output_type": "execute_result"
    }
   ],
   "source": [
    "city_pop.keys()"
   ]
  },
  {
   "cell_type": "code",
   "execution_count": 26,
   "id": "37496992-2870-4a50-acf8-8d8699f60e50",
   "metadata": {},
   "outputs": [
    {
     "data": {
      "text/plain": [
       "dict_values([3.5, 7, 6])"
      ]
     },
     "execution_count": 26,
     "metadata": {},
     "output_type": "execute_result"
    }
   ],
   "source": [
    "city_pop.values()"
   ]
  },
  {
   "cell_type": "code",
   "execution_count": 27,
   "id": "be730576-c233-4952-9d04-b3055b65b3b3",
   "metadata": {},
   "outputs": [
    {
     "data": {
      "text/plain": [
       "dict_items([('chicago', 3.5), ('New York', 7), ('LA', 6)])"
      ]
     },
     "execution_count": 27,
     "metadata": {},
     "output_type": "execute_result"
    }
   ],
   "source": [
    "city_pop.items()"
   ]
  },
  {
   "cell_type": "code",
   "execution_count": 29,
   "id": "2a42ed73-a027-45a1-8217-838238393b62",
   "metadata": {},
   "outputs": [
    {
     "data": {
      "text/plain": [
       "{'chicago': 3.5, 'New York': 7, 'LA': 20}"
      ]
     },
     "execution_count": 29,
     "metadata": {},
     "output_type": "execute_result"
    }
   ],
   "source": [
    "city_pop[\"LA\"]=20\n",
    "city_pop"
   ]
  },
  {
   "cell_type": "code",
   "execution_count": 31,
   "id": "bdf5a884-3d73-4c08-a7e4-dd6b9d1ffa50",
   "metadata": {},
   "outputs": [
    {
     "data": {
      "text/plain": [
       "{'chicago': 3.5, 'New York': 7, 'LA': 20, 'KTM': 30}"
      ]
     },
     "execution_count": 31,
     "metadata": {},
     "output_type": "execute_result"
    }
   ],
   "source": [
    "city_pop[\"KTM\"]= 30\n",
    "city_pop"
   ]
  },
  {
   "cell_type": "code",
   "execution_count": 32,
   "id": "41b07123-04bd-4366-8bf5-1da423210d14",
   "metadata": {},
   "outputs": [
    {
     "data": {
      "text/plain": [
       "30"
      ]
     },
     "execution_count": 32,
     "metadata": {},
     "output_type": "execute_result"
    }
   ],
   "source": [
    "city_pop.pop(\"KTM\")\n"
   ]
  },
  {
   "cell_type": "code",
   "execution_count": 33,
   "id": "62e3e58b-256e-4423-918e-c9120ee7b2a3",
   "metadata": {},
   "outputs": [
    {
     "data": {
      "text/plain": [
       "{'chicago': 3.5, 'New York': 7, 'LA': 20}"
      ]
     },
     "execution_count": 33,
     "metadata": {},
     "output_type": "execute_result"
    }
   ],
   "source": [
    "city_pop"
   ]
  },
  {
   "cell_type": "code",
   "execution_count": null,
   "id": "9d8c3fda-d3af-4517-818c-1eb28bebe40d",
   "metadata": {},
   "outputs": [],
   "source": []
  }
 ],
 "metadata": {
  "kernelspec": {
   "display_name": "Python 3 (ipykernel)",
   "language": "python",
   "name": "python3"
  },
  "language_info": {
   "codemirror_mode": {
    "name": "ipython",
    "version": 3
   },
   "file_extension": ".py",
   "mimetype": "text/x-python",
   "name": "python",
   "nbconvert_exporter": "python",
   "pygments_lexer": "ipython3",
   "version": "3.8.19"
  }
 },
 "nbformat": 4,
 "nbformat_minor": 5
}
