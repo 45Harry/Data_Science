{
 "cells": [
  {
   "cell_type": "markdown",
   "id": "3757b166-3cb4-4b6c-a86c-f61fe2ed12ee",
   "metadata": {},
   "source": [
    "# THIS IS MY FRIST DAY AT MINDRISERS"
   ]
  },
  {
   "cell_type": "code",
   "execution_count": 1,
   "id": "f379ab6a-bb15-425a-9a17-bd3a5693e5f5",
   "metadata": {},
   "outputs": [
    {
     "name": "stdout",
     "output_type": "stream",
     "text": [
      "Untitled.ipynb\n"
     ]
    }
   ],
   "source": [
    "ls"
   ]
  },
  {
   "cell_type": "code",
   "execution_count": 4,
   "id": "e1e37789-4a88-42f0-bad4-da95ff9a75a0",
   "metadata": {},
   "outputs": [
    {
     "name": "stdout",
     "output_type": "stream",
     "text": [
      "total 24\n",
      "drwxr-xr-x 4 harry harry 4096 Sep 11 13:10 \u001b[0m\u001b[01;34m.\u001b[0m/\n",
      "drwxr-xr-x 4 harry harry 4096 Sep 11 13:10 \u001b[01;34m..\u001b[0m/\n",
      "drwxr-xr-x 8 harry harry 4096 Sep 11 13:07 \u001b[01;34m.git\u001b[0m/\n",
      "drwxr-xr-x 2 harry harry 4096 Sep 11 13:11 \u001b[01;34m.ipynb_checkpoints\u001b[0m/\n",
      "-rw-r--r-- 1 harry harry  132 Sep 11 13:07 README.md\n",
      "-rw-r--r-- 1 harry harry 1074 Sep 11 08:35 Untitled.ipynb\n"
     ]
    }
   ],
   "source": [
    "ls -la"
   ]
  },
  {
   "cell_type": "code",
   "execution_count": null,
   "id": "1356f833-60b8-4054-85d9-5d6f7fe707b3",
   "metadata": {},
   "outputs": [],
   "source": []
  }
 ],
 "metadata": {
  "kernelspec": {
   "display_name": "Python 3 (ipykernel)",
   "language": "python",
   "name": "python3"
  },
  "language_info": {
   "codemirror_mode": {
    "name": "ipython",
    "version": 3
   },
   "file_extension": ".py",
   "mimetype": "text/x-python",
   "name": "python",
   "nbconvert_exporter": "python",
   "pygments_lexer": "ipython3",
   "version": "3.8.19"
  }
 },
 "nbformat": 4,
 "nbformat_minor": 5
}
