{
 "cells": [
  {
   "cell_type": "code",
   "execution_count": 1,
   "id": "d76f7fec-b21f-4e61-9e87-f756244378d8",
   "metadata": {},
   "outputs": [
    {
     "name": "stdout",
     "output_type": "stream",
     "text": [
      "Requirement already satisfied: numpy in /home/harry/anaconda3/lib/python3.8/site-packages (1.24.3)\n",
      "Note: you may need to restart the kernel to use updated packages.\n"
     ]
    }
   ],
   "source": [
    "pip install numpy "
   ]
  },
  {
   "cell_type": "code",
   "execution_count": 1,
   "id": "b55a8bad-e7d7-46db-9960-80ac2c655a11",
   "metadata": {},
   "outputs": [
    {
     "data": {
      "text/plain": [
       "'1.24.3'"
      ]
     },
     "execution_count": 1,
     "metadata": {},
     "output_type": "execute_result"
    }
   ],
   "source": [
    "import numpy as np\n",
    "np.__version__\n"
   ]
  },
  {
   "cell_type": "code",
   "execution_count": 3,
   "id": "4ffb84a2-b496-4fd5-b5c5-785211e34ea1",
   "metadata": {},
   "outputs": [
    {
     "name": "stdout",
     "output_type": "stream",
     "text": [
      "[ 2  4  8 16]\n",
      "<class 'numpy.ndarray'>\n"
     ]
    }
   ],
   "source": [
    "my_arr = np.array([2,4,8,16])\n",
    "print(my_arr)\n",
    "print(type(my_arr))"
   ]
  },
  {
   "cell_type": "code",
   "execution_count": 4,
   "id": "4d87bb83-2945-47d4-9572-c8cb78e267e5",
   "metadata": {},
   "outputs": [
    {
     "data": {
      "text/plain": [
       "array(['2', '3.4', 'str'], dtype='<U32')"
      ]
     },
     "execution_count": 4,
     "metadata": {},
     "output_type": "execute_result"
    }
   ],
   "source": [
    "np.array([2,3.4,\"str\"])"
   ]
  },
  {
   "cell_type": "code",
   "execution_count": 5,
   "id": "80ddc894-2652-4292-9164-6b0c3ba1e1d1",
   "metadata": {},
   "outputs": [
    {
     "data": {
      "text/plain": [
       "array([[1, 2, 3],\n",
       "       [4, 5, 6],\n",
       "       [7, 8, 9]])"
      ]
     },
     "execution_count": 5,
     "metadata": {},
     "output_type": "execute_result"
    }
   ],
   "source": [
    "np.array([\n",
    "    [1,2,3],\n",
    "    [4,5,6],\n",
    "    [7,8,9]\n",
    "])"
   ]
  },
  {
   "cell_type": "code",
   "execution_count": 6,
   "id": "f246712d-620a-40cb-9157-24db961eb888",
   "metadata": {},
   "outputs": [
    {
     "data": {
      "text/plain": [
       "array([0, 0, 0, 0, 0])"
      ]
     },
     "execution_count": 6,
     "metadata": {},
     "output_type": "execute_result"
    }
   ],
   "source": [
    "np.zeros(5,dtype = int)"
   ]
  },
  {
   "cell_type": "code",
   "execution_count": 8,
   "id": "75519277-776a-46e0-8fe0-f9fad144d5f7",
   "metadata": {},
   "outputs": [
    {
     "data": {
      "text/plain": [
       "array([[[1., 1.],\n",
       "        [1., 1.],\n",
       "        [1., 1.],\n",
       "        [1., 1.],\n",
       "        [1., 1.]],\n",
       "\n",
       "       [[1., 1.],\n",
       "        [1., 1.],\n",
       "        [1., 1.],\n",
       "        [1., 1.],\n",
       "        [1., 1.]],\n",
       "\n",
       "       [[1., 1.],\n",
       "        [1., 1.],\n",
       "        [1., 1.],\n",
       "        [1., 1.],\n",
       "        [1., 1.]]])"
      ]
     },
     "execution_count": 8,
     "metadata": {},
     "output_type": "execute_result"
    }
   ],
   "source": [
    "np.ones((3,5,2), dtype=float)"
   ]
  },
  {
   "cell_type": "code",
   "execution_count": 9,
   "id": "1ab6953d-5c7c-4a28-9b65-dfd9f715039c",
   "metadata": {},
   "outputs": [
    {
     "data": {
      "text/plain": [
       "array([ 1,  4,  7, 10, 13, 16, 19, 22, 25, 28])"
      ]
     },
     "execution_count": 9,
     "metadata": {},
     "output_type": "execute_result"
    }
   ],
   "source": [
    "np.arange(1,31,3)"
   ]
  },
  {
   "cell_type": "code",
   "execution_count": 10,
   "id": "81a05525-80a0-4752-a353-f29dc77d7b89",
   "metadata": {},
   "outputs": [
    {
     "data": {
      "text/plain": [
       "array([0.  , 0.25, 0.5 , 0.75, 1.  ])"
      ]
     },
     "execution_count": 10,
     "metadata": {},
     "output_type": "execute_result"
    }
   ],
   "source": [
    "np.linspace(0,1,5)"
   ]
  },
  {
   "cell_type": "code",
   "execution_count": 13,
   "id": "2a0b233c-94c2-4c56-b5fb-66d211752d7a",
   "metadata": {},
   "outputs": [
    {
     "data": {
      "text/plain": [
       "array([[0.12777732, 0.31745511, 0.74031987],\n",
       "       [0.73096579, 0.24412158, 0.71257998],\n",
       "       [0.51048228, 0.40422529, 0.61555598]])"
      ]
     },
     "execution_count": 13,
     "metadata": {},
     "output_type": "execute_result"
    }
   ],
   "source": [
    "np.random.random((3,3))"
   ]
  },
  {
   "cell_type": "code",
   "execution_count": 3,
   "id": "68dc802b-d05e-40d6-adaf-81d4645afa52",
   "metadata": {},
   "outputs": [
    {
     "data": {
      "text/plain": [
       "array([[-1.04401714,  0.87745288, -0.2592519 ],\n",
       "       [ 1.56581414, -1.01538356, -1.92155816],\n",
       "       [-0.77264832, -0.04233266, -1.20786751]])"
      ]
     },
     "execution_count": 3,
     "metadata": {},
     "output_type": "execute_result"
    }
   ],
   "source": [
    "np.random.normal(0,1,(3,3))"
   ]
  },
  {
   "cell_type": "code",
   "execution_count": 4,
   "id": "92482ac4-9377-4dc0-8389-4429c06eabdd",
   "metadata": {},
   "outputs": [
    {
     "data": {
      "text/plain": [
       "array([[0, 6, 1],\n",
       "       [3, 7, 6],\n",
       "       [2, 1, 1]])"
      ]
     },
     "execution_count": 4,
     "metadata": {},
     "output_type": "execute_result"
    }
   ],
   "source": [
    "np.random.randint(0,10,(3,3))"
   ]
  },
  {
   "cell_type": "code",
   "execution_count": 5,
   "id": "c90cd48c-9efb-44b6-8b5d-b5ac88379124",
   "metadata": {},
   "outputs": [
    {
     "data": {
      "text/plain": [
       "array([[1., 0., 0.],\n",
       "       [0., 1., 0.],\n",
       "       [0., 0., 1.]])"
      ]
     },
     "execution_count": 5,
     "metadata": {},
     "output_type": "execute_result"
    }
   ],
   "source": [
    "np.eye(3)"
   ]
  },
  {
   "cell_type": "code",
   "execution_count": 11,
   "id": "04f925ca-8572-45ee-835c-2f5814ae049a",
   "metadata": {},
   "outputs": [
    {
     "data": {
      "text/plain": [
       "array([[[3, 4, 7, 8],\n",
       "        [4, 7, 6, 1],\n",
       "        [5, 3, 8, 5]],\n",
       "\n",
       "       [[3, 8, 5, 1],\n",
       "        [1, 3, 2, 6],\n",
       "        [0, 3, 9, 9]]])"
      ]
     },
     "execution_count": 11,
     "metadata": {},
     "output_type": "execute_result"
    }
   ],
   "source": [
    "x1 = np.random.randint(10,size = 6)\n",
    "x2 = np.random.randint(10,size = (4,3))\n",
    "x3 = np.random.randint(10,size = (2,3,4))\n",
    "x3"
   ]
  },
  {
   "cell_type": "code",
   "execution_count": 12,
   "id": "0f0d4a43-a004-41bb-b32e-932484254c55",
   "metadata": {},
   "outputs": [
    {
     "name": "stdout",
     "output_type": "stream",
     "text": [
      "1\n",
      "2\n",
      "3\n"
     ]
    }
   ],
   "source": [
    "\n",
    "print(x1.ndim)\n",
    "print(x2.ndim)\n",
    "print(x3.ndim)"
   ]
  },
  {
   "cell_type": "code",
   "execution_count": 13,
   "id": "1da64326-b3aa-49d4-94d6-5b007ecef31c",
   "metadata": {},
   "outputs": [
    {
     "name": "stdout",
     "output_type": "stream",
     "text": [
      "(6,)\n",
      "(4, 3)\n",
      "(2, 3, 4)\n"
     ]
    }
   ],
   "source": [
    "print(x1.shape)\n",
    "print(x2.shape)\n",
    "print(x3.shape)"
   ]
  },
  {
   "cell_type": "code",
   "execution_count": 14,
   "id": "112cbc9e-38df-4c40-8124-01bb55ce86a1",
   "metadata": {},
   "outputs": [
    {
     "name": "stdout",
     "output_type": "stream",
     "text": [
      "6\n",
      "12\n",
      "24\n"
     ]
    }
   ],
   "source": [
    "print(x1.size)\n",
    "print(x2.size)\n",
    "print(x3.size)"
   ]
  },
  {
   "cell_type": "code",
   "execution_count": 18,
   "id": "8c4fc010-b8cc-4492-8e0f-8caf24e7bb3a",
   "metadata": {},
   "outputs": [],
   "source": [
    "x4=np.random.randint(0,10,(5,2))"
   ]
  },
  {
   "cell_type": "code",
   "execution_count": 19,
   "id": "b24e90bf-0fe4-4b01-b471-b0dca7e791da",
   "metadata": {},
   "outputs": [
    {
     "name": "stdout",
     "output_type": "stream",
     "text": [
      "2\n",
      "(5, 2)\n",
      "10\n"
     ]
    }
   ],
   "source": [
    "print(x4.ndim)\n",
    "print(x4.shape)\n",
    "print(x4.size)"
   ]
  },
  {
   "cell_type": "code",
   "execution_count": 20,
   "id": "5ddd7805-8a5f-4a52-97b7-04dabd873156",
   "metadata": {},
   "outputs": [
    {
     "data": {
      "text/plain": [
       "dtype('int64')"
      ]
     },
     "execution_count": 20,
     "metadata": {},
     "output_type": "execute_result"
    }
   ],
   "source": [
    "x4.dtype"
   ]
  },
  {
   "cell_type": "code",
   "execution_count": 22,
   "id": "430f87f4-7f87-4225-986f-a40138d54383",
   "metadata": {},
   "outputs": [
    {
     "name": "stdout",
     "output_type": "stream",
     "text": [
      "x4.itemsize = 8\n",
      "x4.nbytes = 80\n"
     ]
    }
   ],
   "source": [
    "print('x4.itemsize =',x4.itemsize)\n",
    "print('x4.nbytes =',x4.nbytes)"
   ]
  },
  {
   "cell_type": "code",
   "execution_count": 36,
   "id": "c71bef43-7930-49ec-ad24-cd0eb0ba6ace",
   "metadata": {},
   "outputs": [
    {
     "data": {
      "text/plain": [
       "array([[5., 0., 7., 9., 2.],\n",
       "       [8., 1., 5., 0., 1.],\n",
       "       [3., 2., 0., 7., 5.],\n",
       "       [0., 8., 8., 4., 2.],\n",
       "       [9., 9., 9., 1., 5.]])"
      ]
     },
     "execution_count": 36,
     "metadata": {},
     "output_type": "execute_result"
    }
   ],
   "source": [
    "x5 =np.random.randint(0,10,(5,5))\n",
    "x5.astype(float) # converted to float forcefully"
   ]
  },
  {
   "cell_type": "code",
   "execution_count": 26,
   "id": "b883daac-ff7a-4c6a-bb1c-4eb85db8c975",
   "metadata": {},
   "outputs": [
    {
     "name": "stdout",
     "output_type": "stream",
     "text": [
      "4\n",
      "8\n"
     ]
    }
   ],
   "source": [
    "print(x5[0,0])\n",
    "print(x5[2,-1])"
   ]
  },
  {
   "cell_type": "code",
   "execution_count": 27,
   "id": "f9ad9cb2-12ae-4162-a3a9-6fbc25c1e310",
   "metadata": {},
   "outputs": [
    {
     "name": "stdout",
     "output_type": "stream",
     "text": [
      "9\n"
     ]
    }
   ],
   "source": [
    "print(x5[4,2])"
   ]
  },
  {
   "cell_type": "code",
   "execution_count": 28,
   "id": "94de0a23-dc87-4d47-a1f5-747a66b5233e",
   "metadata": {},
   "outputs": [
    {
     "name": "stdout",
     "output_type": "stream",
     "text": [
      "9\n"
     ]
    }
   ],
   "source": [
    "print(x5[-1,2])"
   ]
  },
  {
   "cell_type": "code",
   "execution_count": 30,
   "id": "350c46cb-fa48-4660-a18b-01b884212a8a",
   "metadata": {},
   "outputs": [
    {
     "data": {
      "text/plain": [
       "array([[ 4,  2,  2,  4,  9],\n",
       "       [ 4,  5,  0,  7,  3],\n",
       "       [ 8,  3,  5,  5, -3],\n",
       "       [ 2,  7,  2,  2,  4],\n",
       "       [ 8,  2,  9,  8,  2]])"
      ]
     },
     "execution_count": 30,
     "metadata": {},
     "output_type": "execute_result"
    }
   ],
   "source": [
    "x5[2,-1]=-3\n",
    "x5"
   ]
  },
  {
   "cell_type": "code",
   "execution_count": 34,
   "id": "0ba6ef5d-6b38-4a63-a210-c56250380e7e",
   "metadata": {},
   "outputs": [
    {
     "data": {
      "text/plain": [
       "array([[0.02470257, 0.21061671, 0.04287289],\n",
       "       [0.26167957, 0.50068186, 0.53790412],\n",
       "       [0.70024635, 0.99227999, 0.14857838]])"
      ]
     },
     "execution_count": 34,
     "metadata": {},
     "output_type": "execute_result"
    }
   ],
   "source": [
    "np.random.rand(3,3)"
   ]
  },
  {
   "cell_type": "code",
   "execution_count": 3,
   "id": "abf870a2-5bc0-4e5d-860a-2abec7bb7b37",
   "metadata": {},
   "outputs": [],
   "source": [
    " x = np.array([[3,4,2],\n",
    "[4,7,6]])"
   ]
  },
  {
   "cell_type": "markdown",
   "id": "851bb5ce-6f47-4eb0-b8ad-ef7e294d155f",
   "metadata": {},
   "source": [
    "this is 4 octuber and array slicing and indexing in numpy"
   ]
  },
  {
   "cell_type": "code",
   "execution_count": 7,
   "id": "52771359-e0e0-43b3-bd72-565080dea3af",
   "metadata": {},
   "outputs": [
    {
     "data": {
      "text/plain": [
       "array([[3, 4, 2],\n",
       "       [4, 7, 6]])"
      ]
     },
     "execution_count": 7,
     "metadata": {},
     "output_type": "execute_result"
    }
   ],
   "source": [
    "x[:2,:3] # rows = index 0 to 2 ; columns = o to 1"
   ]
  },
  {
   "cell_type": "code",
   "execution_count": 8,
   "id": "2e36fafb-2b7b-407a-9363-6ad17fbb8315",
   "metadata": {},
   "outputs": [
    {
     "data": {
      "text/plain": [
       "array([[3, 4, 2]])"
      ]
     },
     "execution_count": 8,
     "metadata": {},
     "output_type": "execute_result"
    }
   ],
   "source": [
    "x[::2,:] # every other row: all coumns"
   ]
  },
  {
   "cell_type": "code",
   "execution_count": 9,
   "id": "20dd83cc-b994-4f98-bbe6-4243c9ac6b15",
   "metadata": {},
   "outputs": [
    {
     "data": {
      "text/plain": [
       "array([[6, 7, 4],\n",
       "       [2, 4, 3]])"
      ]
     },
     "execution_count": 9,
     "metadata": {},
     "output_type": "execute_result"
    }
   ],
   "source": [
    "x[::-1,::-1] #reverst the entiere matrix"
   ]
  },
  {
   "cell_type": "code",
   "execution_count": 10,
   "id": "651f26fa-235a-49ae-a9d6-2601fc24714e",
   "metadata": {},
   "outputs": [
    {
     "data": {
      "text/plain": [
       "array([4, 7])"
      ]
     },
     "execution_count": 10,
     "metadata": {},
     "output_type": "execute_result"
    }
   ],
   "source": [
    "x[:,1]"
   ]
  },
  {
   "cell_type": "code",
   "execution_count": 11,
   "id": "67d97ba1-386d-4887-9a17-57fb633babc4",
   "metadata": {},
   "outputs": [
    {
     "data": {
      "text/plain": [
       "array([4, 7, 6])"
      ]
     },
     "execution_count": 11,
     "metadata": {},
     "output_type": "execute_result"
    }
   ],
   "source": [
    "x[1,:]"
   ]
  },
  {
   "cell_type": "code",
   "execution_count": 13,
   "id": "f19b1490-4437-4789-a713-c9023694be1b",
   "metadata": {},
   "outputs": [
    {
     "data": {
      "text/plain": [
       "array([[ 1,  2],\n",
       "       [ 3,  4],\n",
       "       [ 5,  6],\n",
       "       [ 7,  8],\n",
       "       [ 9, 10],\n",
       "       [11, 12],\n",
       "       [13, 14],\n",
       "       [15, 16]])"
      ]
     },
     "execution_count": 13,
     "metadata": {},
     "output_type": "execute_result"
    }
   ],
   "source": [
    "np.arange(1,17).reshape((8,2)) # size of original array must match the size fo the reshaped array"
   ]
  },
  {
   "cell_type": "code",
   "execution_count": 14,
   "id": "88f3b9d2-306d-435a-b4a7-d2cfd62b6b6d",
   "metadata": {},
   "outputs": [],
   "source": [
    "x = np.arange(5)"
   ]
  },
  {
   "cell_type": "code",
   "execution_count": 15,
   "id": "30695271-4ce3-4f9a-9497-84d092435380",
   "metadata": {},
   "outputs": [
    {
     "data": {
      "text/plain": [
       "(5,)"
      ]
     },
     "execution_count": 15,
     "metadata": {},
     "output_type": "execute_result"
    }
   ],
   "source": [
    "x.shape"
   ]
  },
  {
   "cell_type": "code",
   "execution_count": 17,
   "id": "e4ab5d8c-c733-49b7-a331-f33565961629",
   "metadata": {},
   "outputs": [
    {
     "data": {
      "text/plain": [
       "array([[0, 1, 2, 3, 4]])"
      ]
     },
     "execution_count": 17,
     "metadata": {},
     "output_type": "execute_result"
    }
   ],
   "source": [
    "x.reshape(1,5) #reshape to 1 x 5 matrix(row matrix) -- 2 dim array"
   ]
  },
  {
   "cell_type": "markdown",
   "id": "8586d65a-ecf5-4304-8a64-d0d3ff0581cb",
   "metadata": {},
   "source": [
    "array concatenation and splitting"
   ]
  },
  {
   "cell_type": "code",
   "execution_count": 18,
   "id": "958a9212-550d-47c1-b007-06b7179c9fd2",
   "metadata": {},
   "outputs": [
    {
     "data": {
      "text/plain": [
       "array([1, 2, 3, 4, 5, 6])"
      ]
     },
     "execution_count": 18,
     "metadata": {},
     "output_type": "execute_result"
    }
   ],
   "source": [
    "x = np.array([1,2,3])\n",
    "y = np.array([4,5,6])\n",
    "np.concatenate([x,y])"
   ]
  },
  {
   "cell_type": "code",
   "execution_count": 19,
   "id": "b053fb99-3aa6-46b3-98cf-0e5b978570c1",
   "metadata": {},
   "outputs": [
    {
     "data": {
      "text/plain": [
       "array([1, 2, 3, 4, 5, 6, 7, 8, 9])"
      ]
     },
     "execution_count": 19,
     "metadata": {},
     "output_type": "execute_result"
    }
   ],
   "source": [
    "z = [7,8,9]\n",
    "np.concatenate([x,y,z])"
   ]
  },
  {
   "cell_type": "code",
   "execution_count": 24,
   "id": "11ce83ee-89ad-48eb-8bbe-16ab3443ba03",
   "metadata": {},
   "outputs": [
    {
     "data": {
      "text/plain": [
       "array([[1, 2, 3],\n",
       "       [4, 5, 6],\n",
       "       [1, 2, 3],\n",
       "       [4, 5, 6]])"
      ]
     },
     "execution_count": 24,
     "metadata": {},
     "output_type": "execute_result"
    }
   ],
   "source": [
    "#concatenate 2 dim arrays along first axis(rows)\n",
    "arr2d = np.array([[1,2,3],\n",
    "                 [4,5,6]])\n",
    "np.concatenate([arr2d,arr2s])#axix = 0 by default = means concatente along axis 0 (row)\n",
    "#np.concatenate([arr2d,arr2s],axis=1) # now this will concatenate along axis 1 (columns)"
   ]
  },
  {
   "cell_type": "code",
   "execution_count": 26,
   "id": "a9e8de4b-5298-46e9-9b54-1d3edb239ba8",
   "metadata": {},
   "outputs": [
    {
     "name": "stdout",
     "output_type": "stream",
     "text": [
      "[1 2 3] [99 99] [3 2 1]\n"
     ]
    }
   ],
   "source": [
    "#np.split\n",
    "x = [1,2,3,99,99,3,2,1]\n",
    "x1,x2,x3 = np.split(x,[3,5])#np.split(array, list fo indices split points)\n",
    "print(x1,x2,x3)\n"
   ]
  },
  {
   "cell_type": "code",
   "execution_count": 27,
   "id": "2b8c78f3-f064-4732-af44-a49532a5db59",
   "metadata": {},
   "outputs": [],
   "source": [
    "grid = np.arange(16).reshape((4,4))"
   ]
  },
  {
   "cell_type": "code",
   "execution_count": 29,
   "id": "651dfc89-67e2-4661-8337-636062fd5f16",
   "metadata": {},
   "outputs": [
    {
     "data": {
      "text/plain": [
       "array([[ 0,  1,  2,  3],\n",
       "       [ 4,  5,  6,  7],\n",
       "       [ 8,  9, 10, 11],\n",
       "       [12, 13, 14, 15]])"
      ]
     },
     "execution_count": 29,
     "metadata": {},
     "output_type": "execute_result"
    }
   ],
   "source": [
    "grid"
   ]
  },
  {
   "cell_type": "code",
   "execution_count": 30,
   "id": "d8a51a96-384e-4e75-9161-54d1f7127e1d",
   "metadata": {},
   "outputs": [
    {
     "name": "stdout",
     "output_type": "stream",
     "text": [
      "[[0 1 2 3]\n",
      " [4 5 6 7]]\n",
      "[[ 8  9 10 11]\n",
      " [12 13 14 15]]\n"
     ]
    }
   ],
   "source": [
    "#np.vsplit\n",
    "upper , lower = np.vsplit(grid,[2]) #np.vsplit(arr,split index)\n",
    "print(upper)\n",
    "print(lower)"
   ]
  },
  {
   "cell_type": "code",
   "execution_count": 31,
   "id": "0098e807-dec0-4494-823a-aeec5ba0ba10",
   "metadata": {},
   "outputs": [
    {
     "name": "stdout",
     "output_type": "stream",
     "text": [
      "[[ 0  1]\n",
      " [ 4  5]\n",
      " [ 8  9]\n",
      " [12 13]]\n",
      "[[ 2  3]\n",
      " [ 6  7]\n",
      " [10 11]\n",
      " [14 15]]\n"
     ]
    }
   ],
   "source": [
    "#np.hsplit\n",
    "left , right = np.hsplit(grid,[2]) #np.vsplit(arr,split index)\n",
    "print(left)\n",
    "print(right)"
   ]
  },
  {
   "cell_type": "code",
   "execution_count": 32,
   "id": "1c6b6674-8a75-4004-9ea1-d378bf66ca9c",
   "metadata": {},
   "outputs": [
    {
     "data": {
      "text/plain": [
       "array([ 2,  3, 10,  3,  1])"
      ]
     },
     "execution_count": 32,
     "metadata": {},
     "output_type": "execute_result"
    }
   ],
   "source": [
    "x = np.array([-2,3,10,-3,-1])\n",
    "abs(x) # onvets negative values into positive"
   ]
  },
  {
   "cell_type": "code",
   "execution_count": 33,
   "id": "b0f6c1ff-b3a3-4887-aa8c-bbfb04c95cb8",
   "metadata": {},
   "outputs": [
    {
     "name": "stdout",
     "output_type": "stream",
     "text": [
      "[ 2  3 10  3  1]\n",
      "[ 2  3 10  3  1]\n"
     ]
    }
   ],
   "source": [
    "print(np.absolute(x)) #numpy absolute function\n",
    "print(np.abs(x)) # alias of np.abxolute"
   ]
  },
  {
   "cell_type": "code",
   "execution_count": 36,
   "id": "c2ebbabe-a720-4c67-8468-a90e0c2811c3",
   "metadata": {},
   "outputs": [
    {
     "data": {
      "text/plain": [
       "array([[  4,   6,   8,  10,  12,  14,  16,  18,  20],\n",
       "       [  6,   9,  12,  15,  18,  21,  24,  27,  30],\n",
       "       [  8,  12,  16,  20,  24,  28,  32,  36,  40],\n",
       "       [ 10,  15,  20,  25,  30,  35,  40,  45,  50],\n",
       "       [ 12,  18,  24,  30,  36,  42,  48,  54,  60],\n",
       "       [ 14,  21,  28,  35,  42,  49,  56,  63,  70],\n",
       "       [ 16,  24,  32,  40,  48,  56,  64,  72,  80],\n",
       "       [ 18,  27,  36,  45,  54,  63,  72,  81,  90],\n",
       "       [ 20,  30,  40,  50,  60,  70,  80,  90, 100]])"
      ]
     },
     "execution_count": 36,
     "metadata": {},
     "output_type": "execute_result"
    }
   ],
   "source": [
    "x = np.arange(2,11)\n",
    "np.multiply.outer(x,x) # outer product of (u,u) = u*transpose(v); assumingu and v are columns vectros"
   ]
  },
  {
   "cell_type": "code",
   "execution_count": 57,
   "id": "b4796e7a-a9d7-454c-a849-47283e2ae3ad",
   "metadata": {},
   "outputs": [
    {
     "name": "stdout",
     "output_type": "stream",
     "text": [
      "[0.19066578 0.80006024 0.58487335 0.11774956 0.80771289 0.30103868\n",
      " 0.56347879 0.66334766 0.30560577 0.69223854 0.3822082  0.49337817\n",
      " 0.68417215 0.53828584 0.72569836 0.66648285 0.94511073 0.53572722\n",
      " 0.85238366 0.33472559 0.37325793 0.8784155  0.70539077 0.83267165\n",
      " 0.92796873 0.49116995 0.68509325 0.17448498 0.95787549 0.88653429\n",
      " 0.32853986 0.35882439 0.66217675 0.41143278 0.34592153 0.02641153\n",
      " 0.80962706 0.77309669 0.39717702 0.75640154 0.61927805 0.7566958\n",
      " 0.36684379 0.70937578 0.66772174 0.79175819 0.2005451  0.376942\n",
      " 0.6702695  0.90869704]\n"
     ]
    }
   ],
   "source": [
    "# sum of all elements in an array using built-in python sum function\n",
    "arr = np.random.random(50)\n",
    "print(arr)"
   ]
  },
  {
   "cell_type": "code",
   "execution_count": null,
   "id": "96390cce-8292-46b3-a0ff-08f86885da71",
   "metadata": {},
   "outputs": [],
   "source": []
  },
  {
   "cell_type": "code",
   "execution_count": 58,
   "id": "1ba9e93b-030d-4521-b5d4-6b75ba89d8cb",
   "metadata": {},
   "outputs": [
    {
     "data": {
      "text/plain": [
       "29.035542714299044"
      ]
     },
     "execution_count": 58,
     "metadata": {},
     "output_type": "execute_result"
    }
   ],
   "source": [
    "np.sum(arr)"
   ]
  },
  {
   "cell_type": "code",
   "execution_count": 59,
   "id": "6c6beedc-0f61-4538-8b0d-753c9cf81e11",
   "metadata": {},
   "outputs": [
    {
     "data": {
      "text/plain": [
       "0.026411530659310234"
      ]
     },
     "execution_count": 59,
     "metadata": {},
     "output_type": "execute_result"
    }
   ],
   "source": [
    "np.min(arr)"
   ]
  },
  {
   "cell_type": "code",
   "execution_count": 60,
   "id": "e12816dd-b202-422f-b8e4-2b13f80a753d",
   "metadata": {},
   "outputs": [
    {
     "data": {
      "text/plain": [
       "0.957875491091581"
      ]
     },
     "execution_count": 60,
     "metadata": {},
     "output_type": "execute_result"
    }
   ],
   "source": [
    "np.max(arr)"
   ]
  },
  {
   "cell_type": "code",
   "execution_count": 61,
   "id": "052b4680-5977-40b4-984c-e5b2b989f7f0",
   "metadata": {},
   "outputs": [
    {
     "data": {
      "text/plain": [
       "0.5807108542859809"
      ]
     },
     "execution_count": 61,
     "metadata": {},
     "output_type": "execute_result"
    }
   ],
   "source": [
    "np.mean(arr)"
   ]
  },
  {
   "cell_type": "code",
   "execution_count": 1,
   "id": "37ac57b0-1a76-4932-99e3-6892d79c3d3c",
   "metadata": {},
   "outputs": [
    {
     "data": {
      "text/plain": [
       "22.234430568886527"
      ]
     },
     "execution_count": 1,
     "metadata": {},
     "output_type": "execute_result"
    }
   ],
   "source": [
    "import numpy as np\n",
    "arr = np.random.random(50)\n",
    "sum(arr)"
   ]
  },
  {
   "cell_type": "code",
   "execution_count": 2,
   "id": "b4257d21-0396-4f29-8b51-88622829f265",
   "metadata": {},
   "outputs": [
    {
     "data": {
      "text/plain": [
       "22.234430568886523"
      ]
     },
     "execution_count": 2,
     "metadata": {},
     "output_type": "execute_result"
    }
   ],
   "source": [
    "np.sum(arr)"
   ]
  },
  {
   "cell_type": "code",
   "execution_count": 4,
   "id": "41f1cfb6-c7b8-460f-b7c9-15844b77cce7",
   "metadata": {},
   "outputs": [
    {
     "name": "stdout",
     "output_type": "stream",
     "text": [
      "63.2 ms ± 2.75 ms per loop (mean ± std. dev. of 7 runs, 10 loops each)\n",
      "615 µs ± 25.3 µs per loop (mean ± std. dev. of 7 runs, 1,000 loops each)\n"
     ]
    }
   ],
   "source": [
    "big_arr =np.random.rand(1000000)\n",
    "%timeit sum(big_arr)\n",
    "%timeit np.sum(big_arr)"
   ]
  },
  {
   "cell_type": "code",
   "execution_count": 2,
   "id": "3d709328-b731-4064-baf0-ecf74a2d93d8",
   "metadata": {},
   "outputs": [],
   "source": [
    "import numpy as np\n",
    "x = np.array([1,2,3])\n",
    "y = np.array([4,5,6])"
   ]
  },
  {
   "cell_type": "code",
   "execution_count": 3,
   "id": "3eae81ff-47d4-467b-9e37-1b460c1a4d66",
   "metadata": {},
   "outputs": [
    {
     "data": {
      "text/plain": [
       "array([[1., 1., 1.],\n",
       "       [1., 1., 1.],\n",
       "       [1., 1., 1.]])"
      ]
     },
     "execution_count": 3,
     "metadata": {},
     "output_type": "execute_result"
    }
   ],
   "source": [
    "md_arr = np.ones((3,3))\n",
    "md_arr "
   ]
  },
  {
   "cell_type": "code",
   "execution_count": 5,
   "id": "ec99cbf9-c344-4c1c-a30c-ca0822dc7ae8",
   "metadata": {},
   "outputs": [
    {
     "data": {
      "text/plain": [
       "array([1, 2, 3])"
      ]
     },
     "execution_count": 5,
     "metadata": {},
     "output_type": "execute_result"
    }
   ],
   "source": [
    "x #one dimensional array"
   ]
  },
  {
   "cell_type": "code",
   "execution_count": 6,
   "id": "556d909f-1157-42aa-9954-1d2414a78666",
   "metadata": {},
   "outputs": [
    {
     "data": {
      "text/plain": [
       "array([[2., 3., 4.],\n",
       "       [2., 3., 4.],\n",
       "       [2., 3., 4.]])"
      ]
     },
     "execution_count": 6,
     "metadata": {},
     "output_type": "execute_result"
    }
   ],
   "source": [
    " md_arr + x #broadcasting"
   ]
  },
  {
   "cell_type": "code",
   "execution_count": 4,
   "id": "46c9e848-d6e9-4a7a-b212-bcc707b7226a",
   "metadata": {},
   "outputs": [
    {
     "data": {
      "text/plain": [
       "array([[0.87816018, 0.86271068, 0.96876238],\n",
       "       [0.58708959, 0.35550203, 0.59966649],\n",
       "       [0.49648915, 0.19993081, 0.08899888],\n",
       "       [0.95768075, 0.99892177, 0.89726902],\n",
       "       [0.38001492, 0.53044207, 0.74252713]])"
      ]
     },
     "execution_count": 4,
     "metadata": {},
     "output_type": "execute_result"
    }
   ],
   "source": [
    "X = np.random.random((10,3)) #10*3 array \n",
    "X[:5]"
   ]
  },
  {
   "cell_type": "code",
   "execution_count": 6,
   "id": "8c9aad86-4287-4d48-897b-182f215a75b1",
   "metadata": {},
   "outputs": [
    {
     "data": {
      "text/plain": [
       "array([0.61213795, 0.62634971, 0.59701813])"
      ]
     },
     "execution_count": 6,
     "metadata": {},
     "output_type": "execute_result"
    }
   ],
   "source": [
    "X_mean = X.mean(axis = 0) #mean od each colum(features)\n",
    "X_mean"
   ]
  },
  {
   "cell_type": "code",
   "execution_count": 8,
   "id": "724d1eff-be8b-44d9-a60a-21f81ee93003",
   "metadata": {},
   "outputs": [],
   "source": [
    "X_centered = X - X_mean #x is centered meaning that the mean of each column"
   ]
  },
  {
   "cell_type": "code",
   "execution_count": 9,
   "id": "a984d53f-50c2-443d-b409-b062d2830ec3",
   "metadata": {},
   "outputs": [
    {
     "data": {
      "text/plain": [
       "array([-4.44089210e-17, -7.77156117e-17,  0.00000000e+00])"
      ]
     },
     "execution_count": 9,
     "metadata": {},
     "output_type": "execute_result"
    }
   ],
   "source": [
    "X_centered.mean(axis=0)\n"
   ]
  },
  {
   "cell_type": "code",
   "execution_count": 12,
   "id": "85dd893c-8052-4fe9-bbf6-3e2a8f3eaace",
   "metadata": {},
   "outputs": [
    {
     "data": {
      "text/plain": [
       "array([[5, 0, 3, 3],\n",
       "       [7, 9, 3, 5],\n",
       "       [2, 4, 7, 6]])"
      ]
     },
     "execution_count": 12,
     "metadata": {},
     "output_type": "execute_result"
    }
   ],
   "source": [
    "x = np.array([[5,0,3,3],\n",
    "             [7,9,3,5],\n",
    "             [2,4,7,6]])\n",
    "x"
   ]
  },
  {
   "cell_type": "code",
   "execution_count": 13,
   "id": "de733240-c336-43fd-8acb-1c561e608b1e",
   "metadata": {},
   "outputs": [
    {
     "data": {
      "text/plain": [
       "6"
      ]
     },
     "execution_count": 13,
     "metadata": {},
     "output_type": "execute_result"
    }
   ],
   "source": [
    "np.count_nonzero(x<5)"
   ]
  },
  {
   "cell_type": "code",
   "execution_count": 14,
   "id": "f64f79ed-894b-4760-9c87-c769159179da",
   "metadata": {},
   "outputs": [
    {
     "data": {
      "text/plain": [
       "array([3, 1, 2])"
      ]
     },
     "execution_count": 14,
     "metadata": {},
     "output_type": "execute_result"
    }
   ],
   "source": [
    "np.count_nonzero(x<5,axis = 1)"
   ]
  },
  {
   "cell_type": "code",
   "execution_count": 15,
   "id": "3a4eac33-406f-47ad-a971-6cb94a1cbef3",
   "metadata": {},
   "outputs": [
    {
     "data": {
      "text/plain": [
       "True"
      ]
     },
     "execution_count": 15,
     "metadata": {},
     "output_type": "execute_result"
    }
   ],
   "source": [
    "np.any(x>8)"
   ]
  },
  {
   "cell_type": "code",
   "execution_count": 16,
   "id": "0db125c5-0db1-4ba5-ac16-8d7f15b16f36",
   "metadata": {},
   "outputs": [
    {
     "data": {
      "text/plain": [
       "False"
      ]
     },
     "execution_count": 16,
     "metadata": {},
     "output_type": "execute_result"
    }
   ],
   "source": [
    "np.any(x<0)"
   ]
  },
  {
   "cell_type": "code",
   "execution_count": 17,
   "id": "f364f5cd-6092-44ff-9c52-40de24632f18",
   "metadata": {},
   "outputs": [
    {
     "data": {
      "text/plain": [
       "False"
      ]
     },
     "execution_count": 17,
     "metadata": {},
     "output_type": "execute_result"
    }
   ],
   "source": [
    "np.all(x<0)"
   ]
  },
  {
   "cell_type": "code",
   "execution_count": 18,
   "id": "f9a5bd9c-6046-4323-89d4-1c8cdfc3b819",
   "metadata": {},
   "outputs": [
    {
     "data": {
      "text/plain": [
       "array([ True, False,  True])"
      ]
     },
     "execution_count": 18,
     "metadata": {},
     "output_type": "execute_result"
    }
   ],
   "source": [
    "np.all(x<8,axis = 1)"
   ]
  },
  {
   "cell_type": "markdown",
   "id": "edd875db-e370-4417-970a-0217d8e34c98",
   "metadata": {},
   "source": [
    "wheateh conunting "
   ]
  },
  {
   "cell_type": "code",
   "execution_count": 2,
   "id": "67bf936a-da60-4c18-992b-603a2547fd83",
   "metadata": {},
   "outputs": [],
   "source": [
    "import numpy as np\n",
    "import pandas as pd\n"
   ]
  },
  {
   "cell_type": "code",
   "execution_count": 3,
   "id": "8a06ae17-5b2d-49db-823b-3d6bc252fd65",
   "metadata": {},
   "outputs": [
    {
     "data": {
      "text/html": [
       "<div>\n",
       "<style scoped>\n",
       "    .dataframe tbody tr th:only-of-type {\n",
       "        vertical-align: middle;\n",
       "    }\n",
       "\n",
       "    .dataframe tbody tr th {\n",
       "        vertical-align: top;\n",
       "    }\n",
       "\n",
       "    .dataframe thead th {\n",
       "        text-align: right;\n",
       "    }\n",
       "</style>\n",
       "<table border=\"1\" class=\"dataframe\">\n",
       "  <thead>\n",
       "    <tr style=\"text-align: right;\">\n",
       "      <th></th>\n",
       "      <th>date</th>\n",
       "      <th>precipitation</th>\n",
       "      <th>temp_max</th>\n",
       "      <th>temp_min</th>\n",
       "      <th>wind</th>\n",
       "      <th>weather</th>\n",
       "    </tr>\n",
       "  </thead>\n",
       "  <tbody>\n",
       "    <tr>\n",
       "      <th>0</th>\n",
       "      <td>2012-01-01</td>\n",
       "      <td>0.0</td>\n",
       "      <td>12.8</td>\n",
       "      <td>5.0</td>\n",
       "      <td>4.7</td>\n",
       "      <td>drizzle</td>\n",
       "    </tr>\n",
       "    <tr>\n",
       "      <th>1</th>\n",
       "      <td>2012-01-02</td>\n",
       "      <td>10.9</td>\n",
       "      <td>10.6</td>\n",
       "      <td>2.8</td>\n",
       "      <td>4.5</td>\n",
       "      <td>rain</td>\n",
       "    </tr>\n",
       "    <tr>\n",
       "      <th>2</th>\n",
       "      <td>2012-01-03</td>\n",
       "      <td>0.8</td>\n",
       "      <td>11.7</td>\n",
       "      <td>7.2</td>\n",
       "      <td>2.3</td>\n",
       "      <td>rain</td>\n",
       "    </tr>\n",
       "    <tr>\n",
       "      <th>3</th>\n",
       "      <td>2012-01-04</td>\n",
       "      <td>20.3</td>\n",
       "      <td>12.2</td>\n",
       "      <td>5.6</td>\n",
       "      <td>4.7</td>\n",
       "      <td>rain</td>\n",
       "    </tr>\n",
       "    <tr>\n",
       "      <th>4</th>\n",
       "      <td>2012-01-05</td>\n",
       "      <td>1.3</td>\n",
       "      <td>8.9</td>\n",
       "      <td>2.8</td>\n",
       "      <td>6.1</td>\n",
       "      <td>rain</td>\n",
       "    </tr>\n",
       "  </tbody>\n",
       "</table>\n",
       "</div>"
      ],
      "text/plain": [
       "         date  precipitation  temp_max  temp_min  wind  weather\n",
       "0  2012-01-01            0.0      12.8       5.0   4.7  drizzle\n",
       "1  2012-01-02           10.9      10.6       2.8   4.5     rain\n",
       "2  2012-01-03            0.8      11.7       7.2   2.3     rain\n",
       "3  2012-01-04           20.3      12.2       5.6   4.7     rain\n",
       "4  2012-01-05            1.3       8.9       2.8   6.1     rain"
      ]
     },
     "execution_count": 3,
     "metadata": {},
     "output_type": "execute_result"
    }
   ],
   "source": [
    "\n",
    "data = pd.read_csv('seattle_weather/seattle-weather.csv')\n",
    "data.head()"
   ]
  },
  {
   "cell_type": "code",
   "execution_count": 14,
   "id": "11595a4f-6194-4ddf-9139-0e276708a8b6",
   "metadata": {},
   "outputs": [
    {
     "data": {
      "text/plain": [
       "0    2012-01-01\n",
       "1    2012-01-02\n",
       "2    2012-01-03\n",
       "3    2012-01-04\n",
       "4    2012-01-05\n",
       "Name: date, dtype: object"
      ]
     },
     "execution_count": 14,
     "metadata": {},
     "output_type": "execute_result"
    }
   ],
   "source": [
    "Date = data[\"date\"]\n",
    "Date.head()"
   ]
  },
  {
   "cell_type": "code",
   "execution_count": 12,
   "id": "058ef30f-5915-4b11-bddb-8a708e5911b8",
   "metadata": {},
   "outputs": [
    {
     "data": {
      "text/plain": [
       "(1461, 6)"
      ]
     },
     "execution_count": 12,
     "metadata": {},
     "output_type": "execute_result"
    }
   ],
   "source": [
    "data.shape"
   ]
  },
  {
   "cell_type": "code",
   "execution_count": 13,
   "id": "d8f48215-6c30-484b-b01a-7d6c299e6a45",
   "metadata": {},
   "outputs": [
    {
     "data": {
      "text/plain": [
       "8766"
      ]
     },
     "execution_count": 13,
     "metadata": {},
     "output_type": "execute_result"
    }
   ],
   "source": [
    "data.size"
   ]
  },
  {
   "cell_type": "code",
   "execution_count": 15,
   "id": "319cb0f6-1a8c-431b-bbdb-27ee1d1e9c69",
   "metadata": {},
   "outputs": [
    {
     "data": {
      "text/html": [
       "<div>\n",
       "<style scoped>\n",
       "    .dataframe tbody tr th:only-of-type {\n",
       "        vertical-align: middle;\n",
       "    }\n",
       "\n",
       "    .dataframe tbody tr th {\n",
       "        vertical-align: top;\n",
       "    }\n",
       "\n",
       "    .dataframe thead th {\n",
       "        text-align: right;\n",
       "    }\n",
       "</style>\n",
       "<table border=\"1\" class=\"dataframe\">\n",
       "  <thead>\n",
       "    <tr style=\"text-align: right;\">\n",
       "      <th></th>\n",
       "      <th>precipitation</th>\n",
       "      <th>temp_max</th>\n",
       "      <th>temp_min</th>\n",
       "      <th>wind</th>\n",
       "    </tr>\n",
       "  </thead>\n",
       "  <tbody>\n",
       "    <tr>\n",
       "      <th>count</th>\n",
       "      <td>1461.000000</td>\n",
       "      <td>1461.000000</td>\n",
       "      <td>1461.000000</td>\n",
       "      <td>1461.000000</td>\n",
       "    </tr>\n",
       "    <tr>\n",
       "      <th>mean</th>\n",
       "      <td>3.029432</td>\n",
       "      <td>16.439083</td>\n",
       "      <td>8.234771</td>\n",
       "      <td>3.241136</td>\n",
       "    </tr>\n",
       "    <tr>\n",
       "      <th>std</th>\n",
       "      <td>6.680194</td>\n",
       "      <td>7.349758</td>\n",
       "      <td>5.023004</td>\n",
       "      <td>1.437825</td>\n",
       "    </tr>\n",
       "    <tr>\n",
       "      <th>min</th>\n",
       "      <td>0.000000</td>\n",
       "      <td>-1.600000</td>\n",
       "      <td>-7.100000</td>\n",
       "      <td>0.400000</td>\n",
       "    </tr>\n",
       "    <tr>\n",
       "      <th>25%</th>\n",
       "      <td>0.000000</td>\n",
       "      <td>10.600000</td>\n",
       "      <td>4.400000</td>\n",
       "      <td>2.200000</td>\n",
       "    </tr>\n",
       "    <tr>\n",
       "      <th>50%</th>\n",
       "      <td>0.000000</td>\n",
       "      <td>15.600000</td>\n",
       "      <td>8.300000</td>\n",
       "      <td>3.000000</td>\n",
       "    </tr>\n",
       "    <tr>\n",
       "      <th>75%</th>\n",
       "      <td>2.800000</td>\n",
       "      <td>22.200000</td>\n",
       "      <td>12.200000</td>\n",
       "      <td>4.000000</td>\n",
       "    </tr>\n",
       "    <tr>\n",
       "      <th>max</th>\n",
       "      <td>55.900000</td>\n",
       "      <td>35.600000</td>\n",
       "      <td>18.300000</td>\n",
       "      <td>9.500000</td>\n",
       "    </tr>\n",
       "  </tbody>\n",
       "</table>\n",
       "</div>"
      ],
      "text/plain": [
       "       precipitation     temp_max     temp_min         wind\n",
       "count    1461.000000  1461.000000  1461.000000  1461.000000\n",
       "mean        3.029432    16.439083     8.234771     3.241136\n",
       "std         6.680194     7.349758     5.023004     1.437825\n",
       "min         0.000000    -1.600000    -7.100000     0.400000\n",
       "25%         0.000000    10.600000     4.400000     2.200000\n",
       "50%         0.000000    15.600000     8.300000     3.000000\n",
       "75%         2.800000    22.200000    12.200000     4.000000\n",
       "max        55.900000    35.600000    18.300000     9.500000"
      ]
     },
     "execution_count": 15,
     "metadata": {},
     "output_type": "execute_result"
    }
   ],
   "source": [
    "data.describe()"
   ]
  },
  {
   "cell_type": "code",
   "execution_count": 16,
   "id": "825f3da9-de0c-4d44-b83e-171075aedab8",
   "metadata": {},
   "outputs": [
    {
     "name": "stdout",
     "output_type": "stream",
     "text": [
      "<class 'pandas.core.frame.DataFrame'>\n",
      "RangeIndex: 1461 entries, 0 to 1460\n",
      "Data columns (total 6 columns):\n",
      " #   Column         Non-Null Count  Dtype  \n",
      "---  ------         --------------  -----  \n",
      " 0   date           1461 non-null   object \n",
      " 1   precipitation  1461 non-null   float64\n",
      " 2   temp_max       1461 non-null   float64\n",
      " 3   temp_min       1461 non-null   float64\n",
      " 4   wind           1461 non-null   float64\n",
      " 5   weather        1461 non-null   object \n",
      "dtypes: float64(4), object(2)\n",
      "memory usage: 68.6+ KB\n"
     ]
    }
   ],
   "source": [
    "data.info()"
   ]
  },
  {
   "cell_type": "code",
   "execution_count": null,
   "id": "d12eb944-dfaf-442e-9203-93e44c6bbc0e",
   "metadata": {},
   "outputs": [],
   "source": []
  }
 ],
 "metadata": {
  "kernelspec": {
   "display_name": "Python 3 (ipykernel)",
   "language": "python",
   "name": "python3"
  },
  "language_info": {
   "codemirror_mode": {
    "name": "ipython",
    "version": 3
   },
   "file_extension": ".py",
   "mimetype": "text/x-python",
   "name": "python",
   "nbconvert_exporter": "python",
   "pygments_lexer": "ipython3",
   "version": "3.8.19"
  }
 },
 "nbformat": 4,
 "nbformat_minor": 5
}
