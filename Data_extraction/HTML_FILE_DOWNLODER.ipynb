{
 "cells": [
  {
   "cell_type": "code",
   "execution_count": 1,
   "id": "e823181f-d010-4072-b696-915e522b25dc",
   "metadata": {},
   "outputs": [],
   "source": [
    "import requests\n",
    "from bs4 import BeautifulSoup\n"
   ]
  },
  {
   "cell_type": "code",
   "execution_count": 7,
   "id": "37dad325-c632-4443-9b11-2d0d4b1331e6",
   "metadata": {},
   "outputs": [
    {
     "name": "stdout",
     "output_type": "stream",
     "text": [
      "HTML FILE CREATED SUCESSFULLY\n"
     ]
    }
   ],
   "source": [
    "url = \"https://www.meesho.com/accessories-men/pl/3tp\"\n",
    "response= requests.get(url)\n",
    "html_text = response.text\n",
    "\n",
    "with open(\"mesooo_acce.html\",'w') as f:\n",
    "    f.write(html_text)\n",
    "print(\"HTML FILE CREATED SUCESSFULLY\")"
   ]
  },
  {
   "cell_type": "code",
   "execution_count": 8,
   "id": "50a622ac-13b7-4778-8224-53aa5ca4d56a",
   "metadata": {},
   "outputs": [],
   "source": [
    "with open(\"mesooo_acce.html\",'r') as fp:\n",
    "    soup = BeautifulSoup(fp,'html.parser')"
   ]
  },
  {
   "cell_type": "code",
   "execution_count": 9,
   "id": "5299e0c4-fef6-4c6c-a32f-956037d1a54b",
   "metadata": {},
   "outputs": [
    {
     "name": "stdout",
     "output_type": "stream",
     "text": [
      "<title>Men Accessories - Buy Men Accessories Online Starting at Just ₹58 | Meesho</title>\n"
     ]
    }
   ],
   "source": [
    "print(soup.title)"
   ]
  },
  {
   "cell_type": "code",
   "execution_count": null,
   "id": "48ba95be-9f47-4eca-9671-2a5e93865033",
   "metadata": {},
   "outputs": [],
   "source": []
  }
 ],
 "metadata": {
  "kernelspec": {
   "display_name": "Python 3 (ipykernel)",
   "language": "python",
   "name": "python3"
  },
  "language_info": {
   "codemirror_mode": {
    "name": "ipython",
    "version": 3
   },
   "file_extension": ".py",
   "mimetype": "text/x-python",
   "name": "python",
   "nbconvert_exporter": "python",
   "pygments_lexer": "ipython3",
   "version": "3.8.19"
  }
 },
 "nbformat": 4,
 "nbformat_minor": 5
}
