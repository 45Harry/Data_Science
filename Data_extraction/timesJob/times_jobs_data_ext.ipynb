{
 "cells": [
  {
   "cell_type": "code",
   "execution_count": 1,
   "id": "88e18f0d-4f03-469e-9c57-9c8cab6eed40",
   "metadata": {},
   "outputs": [],
   "source": [
    "import requests\n",
    "from bs4 import BeautifulSoup\n"
   ]
  },
  {
   "cell_type": "code",
   "execution_count": 2,
   "id": "1445666f-f5eb-41cd-851d-521889671cc6",
   "metadata": {},
   "outputs": [],
   "source": [
    "url = \"https://jobs.workable.com/search?query=python\"\n",
    "response = requests.get(url)\n",
    "html = response.text"
   ]
  },
  {
   "cell_type": "code",
   "execution_count": 4,
   "id": "5bd8df54-2001-4fa4-889e-2e07f058c2b9",
   "metadata": {},
   "outputs": [],
   "source": [
    " soup = BeautifulSoup(html, 'lxml')"
   ]
  },
  {
   "cell_type": "code",
   "execution_count": 7,
   "id": "b5452bc2-a09b-469d-8859-05b9a8cef6a6",
   "metadata": {},
   "outputs": [
    {
     "data": {
      "text/plain": [
       "'Python Jobs | Jobs By Workable'"
      ]
     },
     "execution_count": 7,
     "metadata": {},
     "output_type": "execute_result"
    }
   ],
   "source": [
    "soup.title.text"
   ]
  },
  {
   "cell_type": "code",
   "execution_count": 15,
   "id": "50aa0575-ecf6-4665-8044-a085a8cd2947",
   "metadata": {},
   "outputs": [],
   "source": [
    "jobs = soup.find('li',class_='jobsList__list-item--3HLIF')"
   ]
  },
  {
   "cell_type": "code",
   "execution_count": 16,
   "id": "0468972b-052d-40f4-90da-4c4374054dbc",
   "metadata": {},
   "outputs": [
    {
     "ename": "AttributeError",
     "evalue": "'NoneType' object has no attribute 'a'",
     "output_type": "error",
     "traceback": [
      "\u001b[0;31m---------------------------------------------------------------------------\u001b[0m",
      "\u001b[0;31mAttributeError\u001b[0m                            Traceback (most recent call last)",
      "Cell \u001b[0;32mIn[16], line 1\u001b[0m\n\u001b[0;32m----> 1\u001b[0m \u001b[43mjobs\u001b[49m\u001b[38;5;241;43m.\u001b[39;49m\u001b[43ma\u001b[49m\u001b[38;5;241m.\u001b[39mtext\n",
      "\u001b[0;31mAttributeError\u001b[0m: 'NoneType' object has no attribute 'a'"
     ]
    }
   ],
   "source": [
    "jobs.a.text"
   ]
  },
  {
   "cell_type": "code",
   "execution_count": null,
   "id": "7718a154-abfc-4d9b-b295-95f3a29ce2dd",
   "metadata": {},
   "outputs": [],
   "source": []
  }
 ],
 "metadata": {
  "kernelspec": {
   "display_name": "Python 3 (ipykernel)",
   "language": "python",
   "name": "python3"
  },
  "language_info": {
   "codemirror_mode": {
    "name": "ipython",
    "version": 3
   },
   "file_extension": ".py",
   "mimetype": "text/x-python",
   "name": "python",
   "nbconvert_exporter": "python",
   "pygments_lexer": "ipython3",
   "version": "3.8.19"
  }
 },
 "nbformat": 4,
 "nbformat_minor": 5
}
