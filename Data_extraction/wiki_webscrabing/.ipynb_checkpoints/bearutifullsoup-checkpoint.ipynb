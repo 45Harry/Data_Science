{
 "cells": [
  {
   "cell_type": "code",
   "execution_count": 46,
   "id": "a8f50724-7032-42aa-aa45-4f747b7bc7fb",
   "metadata": {},
   "outputs": [],
   "source": [
    "import requests\n",
    "from bs4 import BeautifulSoup\n",
    "import pandas as pd\n"
   ]
  },
  {
   "cell_type": "code",
   "execution_count": 47,
   "id": "a7592f9a-6079-442b-854d-2588585a8ceb",
   "metadata": {},
   "outputs": [],
   "source": [
    "url = 'https://en.wikipedia.org/wiki/Amazon_(company)'\n",
    "response = requests.get(url)\n"
   ]
  },
  {
   "cell_type": "code",
   "execution_count": 94,
   "id": "3c2c6953-111a-487d-b97b-97a76bcd64c8",
   "metadata": {},
   "outputs": [],
   "source": [
    "soup = BeautifulSoup(response.text,'html.parser')\n",
    "table = soup.find('table',{'class':''})\n"
   ]
  },
  {
   "cell_type": "code",
   "execution_count": 107,
   "id": "46931961-666a-453c-98c9-450f2edad4f2",
   "metadata": {},
   "outputs": [
    {
     "name": "stdout",
     "output_type": "stream",
     "text": [
      "Number of headers: 2\n",
      "Headers: ['Sales by country (2023)[52]\\n\\n\\nCountry\\n\\nshare\\n\\n\\nUnited States\\n\\n69.3%\\n\\n\\nGermany\\n\\n6.5%\\n\\n\\nUnited Kingdom\\n\\n5.8%\\n\\n\\nJapan\\n\\n4.8%\\n\\n\\nOther\\n\\n13.6%', 'Sales by country (2023)[52]\\n\\n\\nCountry\\n\\nshare\\n\\n\\nUnited States\\n\\n69.3%\\n\\n\\nGermany\\n\\n6.5%\\n\\n\\nUnited Kingdom\\n\\n5.8%\\n\\n\\nJapan\\n\\n4.8%\\n\\n\\nOther\\n\\n13.6%']\n",
      "  Sales by country (2023)[52]\\n\\n\\nCountry\\n\\nshare\\n\\n\\nUnited States\\n\\n69.3%\\n\\n\\nGermany\\n\\n6.5%\\n\\n\\nUnited Kingdom\\n\\n5.8%\\n\\n\\nJapan\\n\\n4.8%\\n\\n\\nOther\\n\\n13.6%  \\\n",
      "0                                      United States                                                                                                                      \n",
      "1                                            Germany                                                                                                                      \n",
      "2                                     United Kingdom                                                                                                                      \n",
      "3                                              Japan                                                                                                                      \n",
      "4                                              Other                                                                                                                      \n",
      "\n",
      "  Sales by country (2023)[52]\\n\\n\\nCountry\\n\\nshare\\n\\n\\nUnited States\\n\\n69.3%\\n\\n\\nGermany\\n\\n6.5%\\n\\n\\nUnited Kingdom\\n\\n5.8%\\n\\n\\nJapan\\n\\n4.8%\\n\\n\\nOther\\n\\n13.6%  \n",
      "0                                              69.3%                                                                                                                     \n",
      "1                                               6.5%                                                                                                                     \n",
      "2                                               5.8%                                                                                                                     \n",
      "3                                               4.8%                                                                                                                     \n",
      "4                                              13.6%                                                                                                                     \n",
      "Table data saved to 'wiki_country.csv'.\n"
     ]
    }
   ],
   "source": [
    "# Locate the first 'wikitable'\n",
    "table = soup.find(\"table\", class_ ={\"wikitable\",\"sortable\", \"jquery-tablesorter\"}).\n",
    "#title = soup.title\n",
    "#print(title)\n",
    "\n",
    "# Extract headers\n",
    "#for table in tables:\n",
    "headers = [table.text.strip() for header in table.find_all(\"th\")]\n",
    "#print(table.tr.text)\n",
    "\n",
    "#print(headers)\n",
    "#for header in table.find_all(\"th\",)]\n",
    "print(f\"Number of headers: {len(headers)}\")\n",
    "print(\"Headers:\", headers)\n",
    "\n",
    "# Extract rows and adjust mismatched lengths\n",
    "rows = []\n",
    "for row in table.find_all(\"tr\")[1:]: # Skip the header row\n",
    "    cells = row.find_all([\"td\", \"th\"])\n",
    "    row_data = [cell.text.strip() for cell in cells]\n",
    "\n",
    "    # Adjust row length to match headers\n",
    "    if len(row_data) < len(headers):\n",
    "        row_data.extend([\"\"] * (len(headers) - len(row_data)))  # Pad with empty strings\n",
    "    elif len(row_data) > len(headers):\n",
    "        row_data = row_data[:len(headers)]  # Trim excess cells\n",
    "\n",
    "    rows.append(row_data)\n",
    "\n",
    "    # Convert to a DataFrame\n",
    "import pandas as pd\n",
    "df = pd.DataFrame(rows, columns=headers)\n",
    "\n",
    "# Display the DataFramewikitable sortable jquery-tablesorter\n",
    "print(df)\n",
    "\n",
    "# Optionally save to a CSV file\n",
    "df.to_csv(\"wiki_country.csv\", index=False)\n",
    "print(\"Table data saved to 'wiki_country.csv'.\")"
   ]
  },
  {
   "cell_type": "code",
   "execution_count": null,
   "id": "72ab6eb7-a647-402d-87a5-21aa73d483bc",
   "metadata": {},
   "outputs": [],
   "source": []
  }
 ],
 "metadata": {
  "kernelspec": {
   "display_name": "Python 3 (ipykernel)",
   "language": "python",
   "name": "python3"
  },
  "language_info": {
   "codemirror_mode": {
    "name": "ipython",
    "version": 3
   },
   "file_extension": ".py",
   "mimetype": "text/x-python",
   "name": "python",
   "nbconvert_exporter": "python",
   "pygments_lexer": "ipython3",
   "version": "3.8.19"
  }
 },
 "nbformat": 4,
 "nbformat_minor": 5
}
