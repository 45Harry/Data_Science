{
 "cells": [
  {
   "cell_type": "markdown",
   "id": "3757b166-3cb4-4b6c-a86c-f61fe2ed12ee",
   "metadata": {},
   "source": [
    "# THIS IS MY FRIST DAY AT MINDRISERS"
   ]
  },
  {
   "cell_type": "code",
   "execution_count": 1,
   "id": "1356f833-60b8-4054-85d9-5d6f7fe707b3",
   "metadata": {},
   "outputs": [
    {
     "name": "stdout",
     "output_type": "stream",
     "text": [
      "yo man this is harry , whatsupp\n"
     ]
    }
   ],
   "source": [
    "print(\"yo man this is harry , whatsupp\")"
   ]
  },
  {
   "cell_type": "code",
   "execution_count": 6,
   "id": "619b0b4c-b603-4eb9-aa3e-862ce61eeb72",
   "metadata": {},
   "outputs": [
    {
     "name": "stdout",
     "output_type": "stream",
     "text": [
      "I love Python\n"
     ]
    }
   ],
   "source": [
    "print(\"I love Python\") #this is the first program at mindrisers\n"
   ]
  },
  {
   "cell_type": "code",
   "execution_count": 9,
   "id": "7e1d1a37-cfdf-473f-b1f0-b0899e933c31",
   "metadata": {},
   "outputs": [
    {
     "name": "stdout",
     "output_type": "stream",
     "text": [
      "This in muttiline comment\n"
     ]
    }
   ],
   "source": [
    "\"\"\"this is \n",
    "multi\n",
    "line \n",
    "comment\n",
    "\"\"\"\n",
    "print(\"This in muttiline comment\")"
   ]
  },
  {
   "cell_type": "code",
   "execution_count": 12,
   "id": "fad6279a-afbc-4093-85fb-4dcff11436af",
   "metadata": {},
   "outputs": [
    {
     "name": "stdout",
     "output_type": "stream",
     "text": [
      "x = 2\n",
      "X = 5\n"
     ]
    }
   ],
   "source": [
    "#examples of variables \n",
    "x = 2 # the variable x holds the value 2\n",
    "\n",
    "#variables are case_sensiitive (i.e. variables x and X are different)\n",
    "X = 5\n",
    "\n",
    "#you will see that the values of x and X are different \n",
    "print('x =',x) # stting inside single quotes \n",
    "print('X =',X)\n"
   ]
  },
  {
   "cell_type": "code",
   "execution_count": 14,
   "id": "a044805d-e910-4c77-97b0-fe901b65b970",
   "metadata": {},
   "outputs": [
    {
     "name": "stdout",
     "output_type": "stream",
     "text": [
      "PYTHON\n",
      "Harry\n"
     ]
    }
   ],
   "source": [
    "#variables can hold string values (text) as well . String needs to be enclosed\n",
    "#inside a pair of single or douclbe quotes\n",
    "language = \"PYTHON\"\n",
    "name = 'Harry'\n",
    "\n",
    "print(language)\n",
    "print(name)"
   ]
  },
  {
   "cell_type": "code",
   "execution_count": 16,
   "id": "6fbff717-1228-483f-8996-663f2c6e0f71",
   "metadata": {},
   "outputs": [
    {
     "ename": "SyntaxError",
     "evalue": "invalid syntax (1257144712.py, line 1)",
     "output_type": "error",
     "traceback": [
      "\u001b[0;36m  Cell \u001b[0;32mIn[16], line 1\u001b[0;36m\u001b[0m\n\u001b[0;31m    7Name = \"harry\"\u001b[0m\n\u001b[0m     ^\u001b[0m\n\u001b[0;31mSyntaxError\u001b[0m\u001b[0;31m:\u001b[0m invalid syntax\n"
     ]
    }
   ],
   "source": [
    "7Name = \"harry\" # we can't define variables starting with a number 0r  symbols\n"
   ]
  },
  {
   "cell_type": "code",
   "execution_count": 20,
   "id": "961153a5-02e9-4401-bd11-75b6fd63b9e9",
   "metadata": {},
   "outputs": [
    {
     "name": "stdout",
     "output_type": "stream",
     "text": [
      "country = NEPAL\n",
      "Country = USA\n"
     ]
    }
   ],
   "source": [
    "_age = 24\n",
    "name7= 'Harry'\n",
    "\n",
    "country = \"NEPAL\"\n",
    "Country = \"USA\"\n",
    "print(\"country =\",country)\n",
    "\n",
    "\n",
    "print(\"country =\",country)\n",
    "print(\"Country =\",Country)\n"
   ]
  },
  {
   "cell_type": "code",
   "execution_count": 22,
   "id": "7e6ab7bd-8f5e-4f9b-9868-d612ac51b8f7",
   "metadata": {},
   "outputs": [
    {
     "name": "stdout",
     "output_type": "stream",
     "text": [
      "Name =  Harry\n",
      "Age =  22\n"
     ]
    }
   ],
   "source": [
    "name = \"Harry\"\n",
    "age = 22\n",
    "print(\"Name = \",name)\n",
    "print(\"Age = \",age)"
   ]
  },
  {
   "cell_type": "code",
   "execution_count": 26,
   "id": "60a3708b-9a41-4d4e-ac72-6d9514ff4f00",
   "metadata": {},
   "outputs": [],
   "source": [
    "name = \"Harry\"\n",
    "age = 33\n",
    "height= 5.75\n",
    "fruits = ['Apple','Banana','Pear']\n",
    "countries = {'China','india','Nepal'}\n",
    "colors = ('red','green','blue')\n",
    "x = range(5)\n",
    "my_info = {name:\"Harry\",age:22}\n",
    "is_ok=False\n"
   ]
  },
  {
   "cell_type": "code",
   "execution_count": 31,
   "id": "32db220d-8782-41a0-ac5c-fe51ab927ef4",
   "metadata": {},
   "outputs": [
    {
     "name": "stdout",
     "output_type": "stream",
     "text": [
      "Type of name variables <class 'str'>\n",
      "Type of age variables <class 'int'>\n",
      "Type of height variables <class 'float'>\n",
      "Type of fruits variables <class 'list'>\n",
      "Type of countries variables <class 'set'>\n",
      "Type of clors variables <class 'tuple'>\n",
      "Type of x variables <class 'range'>\n",
      "Type of myinfo variables <class 'dict'>\n",
      "Type of is_oK variables <class 'bool'>\n"
     ]
    }
   ],
   "source": [
    "print(\"Type of name variables\",type(name))\n",
    "print(\"Type of age variables\",type(age))\n",
    "print(\"Type of height variables\",type(height))\n",
    "print(\"Type of fruits variables\",type(fruits))\n",
    "print(\"Type of countries variables\",type(countries))\n",
    "print(\"Type of clors variables\",type(colors))\n",
    "print(\"Type of x variables\",type(x))\n",
    "print(\"Type of myinfo variables\",type(my_info))\n",
    "print(\"Type of is_oK variables\",type(is_ok))"
   ]
  },
  {
   "cell_type": "code",
   "execution_count": null,
   "id": "99c02851-7c66-4d3b-80d7-8c89b23e000a",
   "metadata": {},
   "outputs": [],
   "source": []
  }
 ],
 "metadata": {
  "kernelspec": {
   "display_name": "Python 3 (ipykernel)",
   "language": "python",
   "name": "python3"
  },
  "language_info": {
   "codemirror_mode": {
    "name": "ipython",
    "version": 3
   },
   "file_extension": ".py",
   "mimetype": "text/x-python",
   "name": "python",
   "nbconvert_exporter": "python",
   "pygments_lexer": "ipython3",
   "version": "3.8.19"
  }
 },
 "nbformat": 4,
 "nbformat_minor": 5
}
