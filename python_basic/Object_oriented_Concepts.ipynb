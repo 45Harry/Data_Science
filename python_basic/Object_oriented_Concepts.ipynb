{
 "cells": [
  {
   "cell_type": "markdown",
   "id": "da4882b8-a96f-40f8-ae5a-f7d0669f9ef5",
   "metadata": {},
   "source": [
    "\n",
    "this is object oriented concepts"
   ]
  },
  {
   "cell_type": "code",
   "execution_count": 5,
   "id": "d698b70a-aada-457d-bba8-124c6c0351af",
   "metadata": {},
   "outputs": [],
   "source": [
    "class DataScience:\n",
    "    school = \"School of Data Science\""
   ]
  },
  {
   "cell_type": "code",
   "execution_count": 6,
   "id": "4f3dc0d0-c71c-4eb1-9ebf-a83a3feb6238",
   "metadata": {},
   "outputs": [
    {
     "name": "stdout",
     "output_type": "stream",
     "text": [
      "School of Data Science\n",
      "School of Data Science\n"
     ]
    }
   ],
   "source": [
    "student1 = DataScience() #object created\n",
    "student2 = DataScience()\n",
    "\n",
    "\n",
    "print(student1.school)\n",
    "print(student2.school)\n",
    "\n"
   ]
  },
  {
   "cell_type": "code",
   "execution_count": 8,
   "id": "1f09f39d-3833-4ea0-a4f5-85e6af80f492",
   "metadata": {},
   "outputs": [
    {
     "name": "stdout",
     "output_type": "stream",
     "text": [
      "I am Learning PYTHON\n",
      "Sachit is Learning PYTHON\n",
      "Niruta is  Learning PYTHON\n"
     ]
    }
   ],
   "source": [
    "class Data_Science:\n",
    "    language = \"PYTHON\"\n",
    "    \n",
    "harry = Data_Science()\n",
    "Sachit = Data_Science()\n",
    "Niruta = Data_Science()\n",
    "\n",
    "print(f\"I am Learning {harry.language}\")\n",
    "print(f\"Sachit is Learning {Sachit.language}\")\n",
    "print(f\"Niruta is  Learning {Niruta.language}\")"
   ]
  },
  {
   "cell_type": "code",
   "execution_count": 19,
   "id": "ddb4c0eb-8ceb-4e2e-8f16-4d918a204f0f",
   "metadata": {},
   "outputs": [
    {
     "name": "stdout",
     "output_type": "stream",
     "text": [
      "Harry is on level 5\n",
      "Sachit is on level 5\n",
      "Niruta is on level 5\n"
     ]
    }
   ],
   "source": [
    "class Student:\n",
    "    #constructor\n",
    "    def __init__ (self,name, level):\n",
    "        #instance variables\n",
    "        self.name = name\n",
    "        self.level = level\n",
    "        \n",
    "    def __str__(self): # this methon is special methond in pyython which gets invoked when the object is printed\n",
    "        return \"{} studies in level {}\".format(self.name,self.level)\n",
    "        \n",
    "\n",
    "std1 = Student(\"Harry\",5)\n",
    "std2 = Student(\"Sachit\",5)\n",
    "std3 = Student(\"Niruta\",5)\n",
    "\n",
    "print(std1.name,\"is on level\",std1.level)\n",
    "print(std2.name,\"is on level\",std2.level)\n",
    "print(std3.name,\"is on level\",std3.level)\n",
    "\n",
    "\n"
   ]
  },
  {
   "cell_type": "code",
   "execution_count": 21,
   "id": "59d91d04-abde-42bf-a683-8cacf4830090",
   "metadata": {},
   "outputs": [
    {
     "name": "stdout",
     "output_type": "stream",
     "text": [
      "Harry studies in level 5\n",
      "Sachit studies in level 5\n",
      "Niruta studies in level 5\n"
     ]
    }
   ],
   "source": [
    "print(std1)\n",
    "print(std2)\n",
    "print(std3)"
   ]
  },
  {
   "cell_type": "code",
   "execution_count": 2,
   "id": "695f119b-6486-4f4a-901e-4209141b79b0",
   "metadata": {},
   "outputs": [
    {
     "name": "stdout",
     "output_type": "stream",
     "text": [
      "explore() methond from class B\n",
      "explore() methond from class A\n"
     ]
    }
   ],
   "source": [
    "class A:\n",
    "    def explore(self):\n",
    "        print(\"explore() methond from class A\")\n",
    "class B(A):\n",
    "    def explore(self):\n",
    "        print(\"explore() methond from class B\") #method overriing\n",
    "\n",
    "b_obj = B() \n",
    "a_obj = A()\n",
    "\n",
    "b_obj.explore()\n",
    "a_obj.explore()"
   ]
  },
  {
   "cell_type": "code",
   "execution_count": 3,
   "id": "64eff45b-d796-45a3-8d35-495367f14bb1",
   "metadata": {},
   "outputs": [
    {
     "name": "stdout",
     "output_type": "stream",
     "text": [
      "explore() methond from class A\n",
      "explore() methond from class B\n",
      "explore() methond from class A\n"
     ]
    }
   ],
   "source": [
    "class A:\n",
    "    def explore(self):\n",
    "        print(\"explore() methond from class A\")\n",
    "class B(A):\n",
    "    def explore(self):\n",
    "        super().explore() #calling the parent class explore() method\n",
    "        print(\"explore() methond from class B\") #method overriing\n",
    "\n",
    "b_obj = B() \n",
    "a_obj = A()\n",
    "\n",
    "b_obj.explore()\n",
    "a_obj.explore()"
   ]
  },
  {
   "cell_type": "code",
   "execution_count": 8,
   "id": "c69496be-2f4d-4828-b371-2d9e9e275195",
   "metadata": {},
   "outputs": [
    {
     "name": "stdout",
     "output_type": "stream",
     "text": [
      "1 * 1 = 1\n",
      "2 * 2 = 4\n",
      "3 * 3 = 9\n",
      "4 * 4 = 16\n",
      "5 * 5 = 25\n",
      "6 * 6 = 36\n",
      "7 * 7 = 49\n",
      "8 * 8 = 64\n",
      "9 * 9 = 81\n"
     ]
    }
   ],
   "source": [
    "for i in range(1,10):\n",
    "    print(f\"{i} * {i} =\",i*i)"
   ]
  },
  {
   "cell_type": "code",
   "execution_count": 11,
   "id": "c32c95ef-a09a-4d8b-9f6c-15022184ec7c",
   "metadata": {},
   "outputs": [
    {
     "name": "stdout",
     "output_type": "stream",
     "text": [
      "[1, 4, 9, 16, 25, 36, 49, 64, 81]\n",
      "[1, 9, 25, 49, 81, 121, 169, 225, 289, 361]\n"
     ]
    }
   ],
   "source": [
    "squares_list = [i*i for i in range(1,10)] \n",
    "squares_odd_list = [x*x for x in range(1,20) if x%2 != 0 ]#squraes of odd\n",
    "\n",
    "print(squares_list)\n",
    "print(squares_odd_list)"
   ]
  },
  {
   "cell_type": "code",
   "execution_count": 13,
   "id": "07774641-31af-45c0-922e-cd96e2754e50",
   "metadata": {},
   "outputs": [
    {
     "data": {
      "text/plain": [
       "[0, 1, 4, 3, 16, 5, 36, 7, 64, 9]"
      ]
     },
     "execution_count": 13,
     "metadata": {},
     "output_type": "execute_result"
    }
   ],
   "source": [
    "#square a number fi it is even : leave it alone as it is\n",
    "lst = [ i*i if i%2==0 else i for i in range(10)]\n",
    "lst"
   ]
  },
  {
   "cell_type": "code",
   "execution_count": 15,
   "id": "75024d7d-48d9-4275-8e76-5a6021fc5e4c",
   "metadata": {},
   "outputs": [
    {
     "name": "stdout",
     "output_type": "stream",
     "text": [
      "[0, 6, 12, 18]\n"
     ]
    }
   ],
   "source": [
    "lst = []\n",
    "\n",
    "for i in range(20):\n",
    "    if i%2 ==0:\n",
    "        if i%3 ==0:\n",
    "            lst.append(i)\n",
    "\n",
    "print(lst)"
   ]
  },
  {
   "cell_type": "code",
   "execution_count": 17,
   "id": "b363a5b9-1b70-4589-b3de-ca25789484cb",
   "metadata": {},
   "outputs": [
    {
     "name": "stdout",
     "output_type": "stream",
     "text": [
      "[0, 6, 12, 18]\n"
     ]
    }
   ],
   "source": [
    "lst = [ i for i in range(20) if i%2 ==0 if i%3 ==0]\n",
    "print(lst)"
   ]
  },
  {
   "cell_type": "code",
   "execution_count": 18,
   "id": "6cd6cc63-2bdb-42c5-9fcd-669f4e7c3f7f",
   "metadata": {},
   "outputs": [
    {
     "name": "stdout",
     "output_type": "stream",
     "text": [
      "['Stee', 'Harry', 'Nika']\n"
     ]
    }
   ],
   "source": [
    "lst = [name.capitalize() for name in ['stee','hArry',\"nika\"]]\n",
    "print(lst)"
   ]
  },
  {
   "cell_type": "code",
   "execution_count": 19,
   "id": "373ee38b-375b-4764-81b3-28e2420ca60f",
   "metadata": {},
   "outputs": [
    {
     "name": "stdout",
     "output_type": "stream",
     "text": [
      "{1: 1.0, 2: 1.4142135623730951, 3: 1.7320508075688772, 4: 2.0, 5: 2.23606797749979}\n"
     ]
    }
   ],
   "source": [
    "square_roots_dict = {num: num**0.5 for num in range(1,6)}\n",
    "print(square_roots_dict)"
   ]
  },
  {
   "cell_type": "code",
   "execution_count": 22,
   "id": "2713cba6-eb14-48ef-8d45-ecba8be0bc5e",
   "metadata": {},
   "outputs": [
    {
     "data": {
      "text/plain": [
       "{'Apple': 10.8, 'Orange': 7, 'KIwi': 22.5, 'Banana': 6}"
      ]
     },
     "execution_count": 22,
     "metadata": {},
     "output_type": "execute_result"
    }
   ],
   "source": [
    "bill = {\"Apple\":12,\"Orange\":7,\"KIwi\":25,\"Banana\":6}\n",
    "discounted_bill = {k:(v*0.9 if v>10 else v) for k,v in bill.items()}\n",
    "discounted_bill"
   ]
  },
  {
   "cell_type": "code",
   "execution_count": null,
   "id": "78c0f55f-ecbf-41c6-a1cc-ed4b978e6384",
   "metadata": {},
   "outputs": [],
   "source": []
  }
 ],
 "metadata": {
  "kernelspec": {
   "display_name": "Python 3 (ipykernel)",
   "language": "python",
   "name": "python3"
  },
  "language_info": {
   "codemirror_mode": {
    "name": "ipython",
    "version": 3
   },
   "file_extension": ".py",
   "mimetype": "text/x-python",
   "name": "python",
   "nbconvert_exporter": "python",
   "pygments_lexer": "ipython3",
   "version": "3.8.19"
  }
 },
 "nbformat": 4,
 "nbformat_minor": 5
}
