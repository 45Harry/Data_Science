{
 "cells": [
  {
   "cell_type": "code",
   "execution_count": 17,
   "id": "98def5fc-c894-496f-a6f0-03eb8b831835",
   "metadata": {},
   "outputs": [],
   "source": [
    "import numpy as np\n",
    "import seaborn as sns"
   ]
  },
  {
   "cell_type": "code",
   "execution_count": 2,
   "id": "889b7d82-4f2f-4316-8800-f0c41628fbfb",
   "metadata": {},
   "outputs": [],
   "source": [
    "# create a list of numbers with some outliers\n",
    "numbers = [45, 32, 56, 75, 89, 54, 32, 89, 90, 87, 67, 54, 45, 98, 99, 67, 74, 1000, 1100]"
   ]
  },
  {
   "cell_type": "code",
   "execution_count": 4,
   "id": "8dedb106-3c86-4982-8ce6-dea64f3ba0ad",
   "metadata": {},
   "outputs": [
    {
     "data": {
      "text/plain": [
       "32.0"
      ]
     },
     "execution_count": 4,
     "metadata": {},
     "output_type": "execute_result"
    }
   ],
   "source": [
    "np.percentile(numbers,0) #minimum value"
   ]
  },
  {
   "cell_type": "code",
   "execution_count": 5,
   "id": "9ab86f8c-6e95-4d52-97fa-225fd7d20173",
   "metadata": {},
   "outputs": [
    {
     "data": {
      "text/plain": [
       "54.0"
      ]
     },
     "execution_count": 5,
     "metadata": {},
     "output_type": "execute_result"
    }
   ],
   "source": [
    "np.percentile(numbers,25) #calculate the 25th percentile"
   ]
  },
  {
   "cell_type": "code",
   "execution_count": 7,
   "id": "7c240f7d-e58d-43ac-a614-887a2fd6b746",
   "metadata": {},
   "outputs": [
    {
     "data": {
      "text/plain": [
       "74.0"
      ]
     },
     "execution_count": 7,
     "metadata": {},
     "output_type": "execute_result"
    }
   ],
   "source": [
    "np.percentile(numbers,50) #calculate the 50th percentile"
   ]
  },
  {
   "cell_type": "code",
   "execution_count": 8,
   "id": "0bd61a2c-047f-4354-8ecd-99f9b3fcb1e5",
   "metadata": {},
   "outputs": [
    {
     "data": {
      "text/plain": [
       "89.5"
      ]
     },
     "execution_count": 8,
     "metadata": {},
     "output_type": "execute_result"
    }
   ],
   "source": [
    "np.percentile(numbers,75) #calculate the 75th percentile"
   ]
  },
  {
   "cell_type": "code",
   "execution_count": 9,
   "id": "1be7a3a9-c314-436d-8192-282596541d31",
   "metadata": {},
   "outputs": [
    {
     "data": {
      "text/plain": [
       "1100.0"
      ]
     },
     "execution_count": 9,
     "metadata": {},
     "output_type": "execute_result"
    }
   ],
   "source": [
    "np.percentile(numbers,100) #calculate the maximumth percentile"
   ]
  },
  {
   "cell_type": "code",
   "execution_count": 10,
   "id": "35075d8c-e023-4b09-8b35-b5dbd8512549",
   "metadata": {},
   "outputs": [],
   "source": [
    "MIN,Q1,MEDIAN, Q3,MAXIMUM = np.quantile(numbers,[0,0.25,0.5,0.75,1])"
   ]
  },
  {
   "cell_type": "code",
   "execution_count": 11,
   "id": "7ca14cce-2405-4414-af20-ca6e39100242",
   "metadata": {},
   "outputs": [
    {
     "data": {
      "text/plain": [
       "1100.0"
      ]
     },
     "execution_count": 11,
     "metadata": {},
     "output_type": "execute_result"
    }
   ],
   "source": [
    "MAXIMUM"
   ]
  },
  {
   "cell_type": "code",
   "execution_count": 13,
   "id": "2a887e21-46f8-4502-8520-3bb38bac0975",
   "metadata": {},
   "outputs": [
    {
     "data": {
      "text/plain": [
       "35.5"
      ]
     },
     "execution_count": 13,
     "metadata": {},
     "output_type": "execute_result"
    }
   ],
   "source": [
    "IQR = Q3 - Q1\n",
    "IQR"
   ]
  },
  {
   "cell_type": "code",
   "execution_count": 14,
   "id": "4d756c1f-1b96-4364-b5c1-0ba0e9bf4670",
   "metadata": {},
   "outputs": [],
   "source": [
    "lower_fence = Q1 - 1.5 * IQR\n",
    "higher_fence = Q3 + 1.5 * IQR"
   ]
  },
  {
   "cell_type": "code",
   "execution_count": 15,
   "id": "20f5651c-e198-496b-b31f-94aa319bf472",
   "metadata": {},
   "outputs": [],
   "source": [
    "outliers = []\n",
    "for num in numbers:\n",
    "    if num < lower_fence or num > higher_fence:\n",
    "        outliers.append(num)"
   ]
  },
  {
   "cell_type": "code",
   "execution_count": 16,
   "id": "d378a65f-93b2-42fd-addb-d6bcb7fd4d02",
   "metadata": {},
   "outputs": [
    {
     "data": {
      "text/plain": [
       "[1000, 1100]"
      ]
     },
     "execution_count": 16,
     "metadata": {},
     "output_type": "execute_result"
    }
   ],
   "source": [
    "outliers"
   ]
  },
  {
   "cell_type": "code",
   "execution_count": 18,
   "id": "2377be72-cdb5-43aa-a9a5-e95b82380357",
   "metadata": {},
   "outputs": [
    {
     "data": {
      "text/plain": [
       "<Axes: >"
      ]
     },
     "execution_count": 18,
     "metadata": {},
     "output_type": "execute_result"
    },
    {
     "data": {
      "image/png": "[encoded data removed]",
      "text/plain": [
       "<Figure size 640x480 with 1 Axes>"
      ]
     },
     "metadata": {},
     "output_type": "display_data"
    }
   ],
   "source": [
    "sns.boxplot(numbers)"
   ]
  },
  {
   "cell_type": "code",
   "execution_count": 19,
   "id": "8d139d63-e66b-482a-b9be-51de6ee7511c",
   "metadata": {},
   "outputs": [
    {
     "data": {
      "text/plain": [
       "<Axes: >"
      ]
     },
     "execution_count": 19,
     "metadata": {},
     "output_type": "execute_result"
    },
    {
     "data": {
      "image/png": "[encoded data removed]",
      "text/plain": [
       "<Figure size 640x480 with 1 Axes>"
      ]
     },
     "metadata": {},
     "output_type": "display_data"
    }
   ],
   "source": [
    "sns.boxplot(outliers)"
   ]
  },
  {
   "cell_type": "code",
   "execution_count": null,
   "id": "10af0d46-b0e1-4efc-804f-988f111450d7",
   "metadata": {},
   "outputs": [],
   "source": []
  }
 ],
 "metadata": {
  "kernelspec": {
   "display_name": "Python 3 (ipykernel)",
   "language": "python",
   "name": "python3"
  },
  "language_info": {
   "codemirror_mode": {
    "name": "ipython",
    "version": 3
   },
   "file_extension": ".py",
   "mimetype": "text/x-python",
   "name": "python",
   "nbconvert_exporter": "python",
   "pygments_lexer": "ipython3",
   "version": "3.8.19"
  }
 },
 "nbformat": 4,
 "nbformat_minor": 5
}
